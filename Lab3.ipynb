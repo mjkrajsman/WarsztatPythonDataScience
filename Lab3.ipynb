{
 "cells": [
  {
   "cell_type": "markdown",
   "metadata": {},
   "source": [
    "# Lab 3"
   ]
  },
  {
   "cell_type": "markdown",
   "metadata": {},
   "source": [
    "# Zadanie na zaś 1"
   ]
  },
  {
   "cell_type": "markdown",
   "metadata": {},
   "source": [
    "Napisać `skrypt` który zliczy ilość wystąpień parametrów z linii komend"
   ]
  },
  {
   "cell_type": "raw",
   "metadata": {},
   "source": [
    "PS C:\\work\\conda\\WarsztatPythonDataScience> python .\\simple_script.py asdf asdf as as as\n",
    "{'asdf': 2, 'as': 3}"
   ]
  },
  {
   "cell_type": "markdown",
   "metadata": {},
   "source": [
    "# Zadanie na zaś 3"
   ]
  },
  {
   "cell_type": "markdown",
   "metadata": {},
   "source": [
    "Wypisać wszystkie permutacje danej listy\n",
    "1. z wykorzystaniem itertools\n",
    "2. bez wykorzystania itertools"
   ]
  },
  {
   "cell_type": "raw",
   "metadata": {},
   "source": [
    "permutations([1,2,3])\n",
    "[(1, 2, 3), (1, 3, 2), (2, 1, 3), (2, 3, 1), (3, 1, 2), (3, 2, 1)] "
   ]
  },
  {
   "cell_type": "code",
   "execution_count": null,
   "metadata": {},
   "outputs": [],
   "source": [
    "from itertools import permutations\n",
    "l = [1,2,3]\n",
    "list(permutations(l,len(l)))"
   ]
  },
  {
   "cell_type": "code",
   "execution_count": null,
   "metadata": {},
   "outputs": [],
   "source": [
    "def permutate(seq):\n",
    "\n",
    "    if not seq:\n",
    "        return [seq] \n",
    "    else:\n",
    "        temp = []\n",
    "        for k in range(len(seq)):\n",
    "            part = seq[:k] + seq[k+1:]\n",
    "            for m in permutate(part):\n",
    "                temp.append(seq[k:k+1] + m)\n",
    "        return temp"
   ]
  },
  {
   "cell_type": "code",
   "execution_count": null,
   "metadata": {},
   "outputs": [],
   "source": [
    "permutate([1,2,3])"
   ]
  },
  {
   "cell_type": "code",
   "execution_count": null,
   "metadata": {},
   "outputs": [],
   "source": [
    "def permutate(seq):\n",
    "\n",
    "    if not seq:\n",
    "        return [seq] \n",
    "    else:\n",
    "        temp = []\n",
    "        for k in range(len(seq)):\n",
    "            part = seq[:k] + seq[k+1:]\n",
    "            print (k, part)\n",
    "            for m in permutate(part):\n",
    "                temp.append(seq[k:k+1] + m)\n",
    "                print (\"> \", m, seq[k:k+1], temp)\n",
    "        return temp"
   ]
  },
  {
   "cell_type": "code",
   "execution_count": null,
   "metadata": {},
   "outputs": [],
   "source": [
    "permutate([1])"
   ]
  },
  {
   "cell_type": "code",
   "execution_count": null,
   "metadata": {},
   "outputs": [],
   "source": [
    "permutate([1,2])"
   ]
  },
  {
   "cell_type": "code",
   "execution_count": null,
   "metadata": {},
   "outputs": [],
   "source": [
    "permutate([1,2,3])"
   ]
  },
  {
   "cell_type": "markdown",
   "metadata": {},
   "source": [
    "# Zadanie na zaś 5"
   ]
  },
  {
   "cell_type": "markdown",
   "metadata": {},
   "source": [
    "Stworzyć funkcję `f(n)` która zbuduje `DataFrame` zawierającą tabliczkę mnożenia do `n` "
   ]
  },
  {
   "cell_type": "code",
   "execution_count": null,
   "metadata": {},
   "outputs": [],
   "source": [
    "import pandas as pd\n",
    "def f(n):\n",
    "    n+=1\n",
    "    return pd.DataFrame([ [ x*y for x in range(1,n) ] for y in range(1,n)], index=range(1,n), columns=range(1,n))\n",
    "\n",
    "f(10)"
   ]
  },
  {
   "cell_type": "markdown",
   "metadata": {},
   "source": [
    "## Zadanie na dziś 1"
   ]
  },
  {
   "cell_type": "code",
   "execution_count": null,
   "metadata": {},
   "outputs": [],
   "source": [
    "import pandas as pd\n",
    "\n",
    "data_url = 'http://bit.ly/2cLzoxH'\n",
    "gapminder = pd.read_csv(data_url)\n",
    "print(gapminder.head(3))"
   ]
  },
  {
   "cell_type": "code",
   "execution_count": null,
   "metadata": {},
   "outputs": [],
   "source": [
    "print(len(gapminder))"
   ]
  },
  {
   "cell_type": "code",
   "execution_count": null,
   "metadata": {},
   "outputs": [],
   "source": [
    "pd.pivot_table(gapminder, values='lifeExp', columns='continent')"
   ]
  },
  {
   "cell_type": "markdown",
   "metadata": {},
   "source": [
    "- podsumować 'lifeExp' wg.:\n",
    " - Kraju\n",
    " - Roku"
   ]
  },
  {
   "cell_type": "code",
   "execution_count": null,
   "metadata": {},
   "outputs": [],
   "source": [
    "pd.pivot_table(gapminder, values='lifeExp', columns='country').T"
   ]
  },
  {
   "cell_type": "code",
   "execution_count": null,
   "metadata": {},
   "outputs": [],
   "source": [
    "pd.pivot_table(gapminder, values='lifeExp', columns='year').T"
   ]
  },
  {
   "cell_type": "markdown",
   "metadata": {},
   "source": [
    "## Zadanie na dziś 2"
   ]
  },
  {
   "cell_type": "code",
   "execution_count": null,
   "metadata": {},
   "outputs": [],
   "source": [
    "df1 = gapminder[['continent', 'year','lifeExp']]\n",
    "\n",
    "pd.pivot_table(df1, values='lifeExp', \n",
    "                     index=['year'], \n",
    "                     columns='continent')"
   ]
  },
  {
   "cell_type": "code",
   "execution_count": null,
   "metadata": {},
   "outputs": [],
   "source": [
    "pd.pivot_table(df1, values='lifeExp', \n",
    "                    index=['year'], \n",
    "                    columns='continent',\n",
    "                    aggfunc='min')"
   ]
  },
  {
   "cell_type": "markdown",
   "metadata": {},
   "source": [
    "- Analogicznie, podać:\n",
    "    - średnią długość życia w krajach\n",
    "      - z uwględnieniem roku\n",
    "      - bez względu na rok\n",
    "      \n"
   ]
  },
  {
   "cell_type": "code",
   "execution_count": null,
   "metadata": {},
   "outputs": [],
   "source": [
    "pd.pivot_table(df1, values='lifeExp', \n",
    "                    index=['year'], \n",
    "                    columns='continent',\n",
    "                    aggfunc=['min','mean','max']).T"
   ]
  },
  {
   "cell_type": "code",
   "execution_count": null,
   "metadata": {},
   "outputs": [],
   "source": [
    "pd.pivot_table(df1, values='lifeExp', \n",
    "                    columns='continent',\n",
    "                    aggfunc=['min','mean','max']).T"
   ]
  }
 ],
 "metadata": {
  "kernelspec": {
   "display_name": "Python 3",
   "language": "python",
   "name": "python3"
  },
  "language_info": {
   "codemirror_mode": {
    "name": "ipython",
    "version": 3
   },
   "file_extension": ".py",
   "mimetype": "text/x-python",
   "name": "python",
   "nbconvert_exporter": "python",
   "pygments_lexer": "ipython3",
   "version": "3.7.4"
  }
 },
 "nbformat": 4,
 "nbformat_minor": 4
}
