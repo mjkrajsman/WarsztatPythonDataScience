{
 "cells": [
  {
   "cell_type": "markdown",
   "metadata": {},
   "source": [
    "# Warsztaty Python w Data Science"
   ]
  },
  {
   "cell_type": "markdown",
   "metadata": {},
   "source": [
    "***"
   ]
  },
  {
   "cell_type": "markdown",
   "metadata": {},
   "source": [
    "## Python 2"
   ]
  },
  {
   "cell_type": "markdown",
   "metadata": {},
   "source": [
    "***"
   ]
  },
  {
   "cell_type": "markdown",
   "metadata": {},
   "source": [
    "# https://github.com/MichalKorzycki/WarsztatPythonDataScience"
   ]
  },
  {
   "cell_type": "markdown",
   "metadata": {},
   "source": [
    "***"
   ]
  },
  {
   "cell_type": "markdown",
   "metadata": {},
   "source": [
    "## 2. Język Python 2 \n",
    "- ### instrukcje sterujące\n",
    "- ### obsługa błędów\n",
    "- ### Korzystanie z pythona – notebooks, skrypty\n"
   ]
  },
  {
   "cell_type": "markdown",
   "metadata": {},
   "source": [
    "## Zadanie 1"
   ]
  },
  {
   "cell_type": "raw",
   "metadata": {},
   "source": [
    "Napisać funkcję co policzy ilość wystąpień na liście\n",
    "Przykład\n",
    "\n",
    "zlicz( [1, 2, 3, 4, 1, 2, 1] )\n",
    "\n",
    "{ 1: 3, 2: 2, 3: 1, 4: 1 }"
   ]
  },
  {
   "cell_type": "code",
   "execution_count": null,
   "metadata": {},
   "outputs": [],
   "source": [
    "def zlicz(lista):\n",
    "    ilosc_wystapien = {}\n",
    "    for x in lista:\n",
    "        ilosc = ilosc_wystapien.get(x, 0)\n",
    "        ilosc = ilosc + 1\n",
    "        ilosc_wystapien[x] = ilosc\n",
    "    return ilosc_wystapien\n",
    "        "
   ]
  },
  {
   "cell_type": "code",
   "execution_count": null,
   "metadata": {},
   "outputs": [],
   "source": [
    "zlicz( [1] * 10 )"
   ]
  },
  {
   "cell_type": "code",
   "execution_count": null,
   "metadata": {},
   "outputs": [],
   "source": [
    "zlicz( [1, 2, 3, 4, 1, 2, 1] )"
   ]
  },
  {
   "cell_type": "code",
   "execution_count": null,
   "metadata": {},
   "outputs": [],
   "source": [
    "def zlicz(lista):\n",
    "    ilosc_wystapien = {}\n",
    "    for x in lista:\n",
    "        ilosc = ilosc_wystapien.get(x, 0)\n",
    "        ilosc = ilosc + 1\n",
    "        print (\"x:\", x, \"wystapil:\", ilosc, \"razy\")\n",
    "        ilosc_wystapien[x] = ilosc\n",
    "    return ilosc_wystapien"
   ]
  },
  {
   "cell_type": "code",
   "execution_count": null,
   "metadata": {},
   "outputs": [],
   "source": [
    "zlicz( [1] * 10 )"
   ]
  },
  {
   "cell_type": "code",
   "execution_count": null,
   "metadata": {},
   "outputs": [],
   "source": [
    "zlicz( [1, 2, 3, 4, 1, 2, 1] )"
   ]
  },
  {
   "cell_type": "code",
   "execution_count": null,
   "metadata": {},
   "outputs": [],
   "source": [
    "def zlicz(lista):\n",
    "    ilosc_wystapien = {}\n",
    "    for x in lista:\n",
    "        ilosc_wystapien[x] = ilosc_wystapien.get(x, 0) +1\n",
    "    return ilosc_wystapien"
   ]
  },
  {
   "cell_type": "code",
   "execution_count": null,
   "metadata": {},
   "outputs": [],
   "source": [
    "zlicz( [1, 2, 3, 4, 1, 2, 1] )"
   ]
  },
  {
   "cell_type": "code",
   "execution_count": null,
   "metadata": {},
   "outputs": [],
   "source": [
    "n = 1\n",
    "n = n + 1\n",
    "n"
   ]
  },
  {
   "cell_type": "code",
   "execution_count": null,
   "metadata": {},
   "outputs": [],
   "source": [
    "n += 1\n",
    "n"
   ]
  },
  {
   "cell_type": "code",
   "execution_count": null,
   "metadata": {},
   "outputs": [],
   "source": [
    "# Dodaj 1 i podstaw \n",
    "n += 1\n",
    "# Odejmij 1 i podstaw \n",
    "n -= 1\n",
    "# Pomnóż i podstaw\n",
    "n *= 2\n",
    "# Podziel przez i podstaw\n",
    "n /= 2\n",
    "# Weź modulo (resztę z dzielenia) i podstaw\n",
    "n %= 2\n",
    "# Podnieś do potęgi i podstaw\n",
    "n **= 2\n",
    "# Podziel bez reszty i podstaw\n",
    "n //= 2"
   ]
  },
  {
   "cell_type": "code",
   "execution_count": null,
   "metadata": {},
   "outputs": [],
   "source": [
    "def zlicz(lista):\n",
    "    ilosc_wystapien = {}\n",
    "    for x in lista:\n",
    "        ilosc = ilosc_wystapien.get(x, 0)\n",
    "        ilosc += 1\n",
    "        ilosc_wystapien[x] = ilosc\n",
    "    return ilosc_wystapien"
   ]
  },
  {
   "cell_type": "code",
   "execution_count": null,
   "metadata": {},
   "outputs": [],
   "source": [
    "zlicz( [1, 2, 3, 4, 1, 2, 1] )"
   ]
  },
  {
   "cell_type": "code",
   "execution_count": null,
   "metadata": {},
   "outputs": [],
   "source": [
    "def zlicz(lista):\n",
    "    ilosc_wystapien = {}\n",
    "    for x in lista:\n",
    "        ilosc_wystapien[x] = ilosc_wystapien.get(x, 0) + 1\n",
    "    return ilosc_wystapien"
   ]
  },
  {
   "cell_type": "code",
   "execution_count": null,
   "metadata": {},
   "outputs": [],
   "source": [
    "zlicz( [1, 2, 3, 4, 1, 2, 1] )"
   ]
  },
  {
   "cell_type": "markdown",
   "metadata": {},
   "source": [
    "## Zadanie 2"
   ]
  },
  {
   "cell_type": "raw",
   "metadata": {},
   "source": [
    "\n",
    "Napisać funkcję co wypisze choinkę o odpowiedniej wysokości\n",
    "\n",
    "choinka(7)\n",
    "\n",
    "\n",
    "       *\n",
    "      ***\n",
    "     *****\n",
    "    *******\n",
    "   *********\n",
    "  ***********\n",
    " *************\n",
    "       *\n",
    "      ***"
   ]
  },
  {
   "cell_type": "code",
   "execution_count": null,
   "metadata": {},
   "outputs": [],
   "source": [
    "def choinka(poziom):\n",
    "    for i in range(1,poziom+1):\n",
    "        print (\" \"*(poziom-i)+ \"*\"*(2*i-1))\n",
    "    print( \" \"*(poziom-1)+\"*\" )\n",
    "    print( \" \"*(poziom-2)+\"***\" )    "
   ]
  },
  {
   "cell_type": "code",
   "execution_count": null,
   "metadata": {},
   "outputs": [],
   "source": [
    "choinka(12)"
   ]
  },
  {
   "cell_type": "code",
   "execution_count": null,
   "metadata": {},
   "outputs": [],
   "source": [
    "def choinka(poziom):\n",
    "    wynik = \"\"\n",
    "    for i in range(poziom):\n",
    "        wynik += str(i)\n",
    "        wynik += \" \"\n",
    "        wynik += str(poziom-i+1)\n",
    "        wynik += \" \"\n",
    "        wynik += str(2*i+1)\n",
    "        \n",
    "        for j in range(poziom-i+1):\n",
    "            wynik += \" \"\n",
    "        for j in range(2*i+1):\n",
    "            wynik += \"*\"\n",
    "        wynik += '\\n'\n",
    "    \n",
    "    for i in range(poziom+1+5):\n",
    "        wynik += \" \"\n",
    "    wynik += '*\\n'\n",
    "    \n",
    "    for i in range(poziom+5):\n",
    "        wynik += \" \"\n",
    "    wynik += '***'\n",
    "    \n",
    "    print (wynik)    "
   ]
  },
  {
   "cell_type": "code",
   "execution_count": null,
   "metadata": {},
   "outputs": [],
   "source": [
    "choinka(5)"
   ]
  },
  {
   "cell_type": "markdown",
   "metadata": {},
   "source": [
    "## Zadanie 3"
   ]
  },
  {
   "cell_type": "raw",
   "metadata": {},
   "source": [
    "\n",
    "Napisać funkcję co wypiszę liczbę naturalną słownie dla liczb od 0 do 999999.\n",
    "\n",
    "slownie(1984)\n",
    "'tysiąc dziewięćset osiemdziesiąt cztery'\n"
   ]
  },
  {
   "cell_type": "code",
   "execution_count": null,
   "metadata": {},
   "outputs": [],
   "source": [
    "def do999(n):\n",
    "    nazwy_jednosci = { 0: \"\", 1: \"jeden\", 2: \"dwa\", 3: \"trzy\", 4: \"cztery\", 5: \"pięć\", 6: \"sześć\", 7: \"siedem\", 8: \"osiem\", 9: \"dziewięć\"}\n",
    "    nazwy_nastki = { 11: \"jedenaście\", 12: \"dwanaście\", 13: \"trzynaście\", 14: \"czternaście\", 15: \"piętnaście\", 16: \"szesnaście\", 17: \"siedemnaście\", 18: \"osiemnaście\", 19: \"dziewietnaście\"}\n",
    "    nazwy_dziesiatki = { 0: \"\", 10: \"dziesięć\", 20: \"dwadzieścia\", 30: \"trzydzieści\", 40: \"czterdzieści\", 50: \"pięćdziesiąt\", 60: \"sześćdziesiąt\", 70: \"siedemdziesiąt\", 80: \"osiemdziesiąt\", 90: \"dziewięćdziesiąt\"}\n",
    "    nazwy_setki = { 0: \"\", 100: \"sto\", 200: \"dwieście\", 300: \"trzysta\", 400: \"czterysta\", 500: \"pięćset\", 600: \"sześćset\", 700: \"siedemset\", 800: \"osiemset\", 900: \"dziewięćset\"}\n",
    "    \n",
    "    wynik = [] \n",
    "    \n",
    "    jednosci = n % 10\n",
    "    wynik = [ (jednosci,nazwy_jednosci[jednosci]) ]\n",
    "    \n",
    "    n = n - jednosci\n",
    "    dziesiatki = n % 100\n",
    "    \n",
    "    if dziesiatki == 10 and jednosci > 0:\n",
    "        suma = dziesiatki+jednosci\n",
    "        wynik = [ (suma, nazwy_nastki[suma]) ]\n",
    "    else:\n",
    "        wynik = [ (dziesiatki,nazwy_dziesiatki[dziesiatki]) ]  + wynik\n",
    "        \n",
    "    n = n - dziesiatki\n",
    "    setki = n % 1000\n",
    "    wynik= [ (setki,nazwy_setki[setki]) ] + wynik\n",
    "    \n",
    "    return wynik"
   ]
  },
  {
   "cell_type": "code",
   "execution_count": null,
   "metadata": {},
   "outputs": [],
   "source": [
    "do999(0)"
   ]
  },
  {
   "cell_type": "code",
   "execution_count": null,
   "metadata": {},
   "outputs": [],
   "source": [
    "do999(711)"
   ]
  },
  {
   "cell_type": "code",
   "execution_count": null,
   "metadata": {},
   "outputs": [],
   "source": [
    "do999(110)"
   ]
  },
  {
   "cell_type": "code",
   "execution_count": null,
   "metadata": {},
   "outputs": [],
   "source": [
    "def dodaj_jednostke(lista, formy):\n",
    "    if lista[-1][0]==0 and lista[-2][0]==0 and lista[-3][0]==0:\n",
    "        return lista\n",
    "\n",
    "    if lista[-1][0]==1 and lista[-2][0]==0 and lista[-3][0]==0:\n",
    "        lista = [ (0, formy[0]) ]\n",
    "    elif lista[-1][0] in [2,3,4]:\n",
    "        lista.append( (lista[-1][0], formy[1]))\n",
    "    else:\n",
    "        lista.append( (lista[-1][0], formy[2]))\n",
    "    return lista\n",
    "\n",
    "def _slownie(n):\n",
    "    wynik = do999(n%1000)\n",
    "    if n>999:\n",
    "        n=n//1000\n",
    "        wynik = dodaj_jednostke(do999(n%1000), ['tysiąc', 'tysiące', 'tysięcy']) + wynik\n",
    "    if n>999:\n",
    "        n=n//1000\n",
    "        wynik = dodaj_jednostke(do999(n%1000), ['milion', 'miliony', 'milionów']) + wynik\n",
    "    if n>999:\n",
    "        n=n//1000\n",
    "        wynik = dodaj_jednostke(do999(n%1000), ['miliard', 'miliardy', 'miliardów']) + wynik\n",
    "        \n",
    "    return wynik"
   ]
  },
  {
   "cell_type": "code",
   "execution_count": null,
   "metadata": {},
   "outputs": [],
   "source": [
    "_slownie(1984)"
   ]
  },
  {
   "cell_type": "code",
   "execution_count": null,
   "metadata": {},
   "outputs": [],
   "source": [
    "_slownie(369017002011)"
   ]
  },
  {
   "cell_type": "code",
   "execution_count": null,
   "metadata": {},
   "outputs": [],
   "source": [
    "def slownie(n):\n",
    "    lista = _slownie(n)\n",
    "    wynik = ''\n",
    "    for i in range(len(lista)):\n",
    "        wynik = wynik + lista[i][1]\n",
    "        if (i+1<len(lista)) and len(lista[i][1])>0:\n",
    "            wynik = wynik+' '\n",
    "    return wynik"
   ]
  },
  {
   "cell_type": "code",
   "execution_count": null,
   "metadata": {},
   "outputs": [],
   "source": [
    "slownie(1984)"
   ]
  },
  {
   "cell_type": "code",
   "execution_count": null,
   "metadata": {},
   "outputs": [],
   "source": [
    "slownie(369017002011)"
   ]
  },
  {
   "cell_type": "code",
   "execution_count": null,
   "metadata": {},
   "outputs": [],
   "source": [
    "slownie(1000000000)"
   ]
  },
  {
   "cell_type": "raw",
   "metadata": {},
   "source": [
    "do999 -------------\\\n",
    "                    ------> _slownie -----> slownie \n",
    "dodaj_jednostke ---/"
   ]
  },
  {
   "cell_type": "markdown",
   "metadata": {},
   "source": [
    "## Argumenty Funkcji"
   ]
  },
  {
   "cell_type": "code",
   "execution_count": null,
   "metadata": {},
   "outputs": [],
   "source": [
    "int(\"10\")"
   ]
  },
  {
   "cell_type": "code",
   "execution_count": null,
   "metadata": {},
   "outputs": [],
   "source": [
    "int(\"10\", base=2)"
   ]
  },
  {
   "cell_type": "code",
   "execution_count": null,
   "metadata": {},
   "outputs": [],
   "source": [
    "def wiecej(x, ile=2):\n",
    "    return ile*x"
   ]
  },
  {
   "cell_type": "code",
   "execution_count": null,
   "metadata": {},
   "outputs": [],
   "source": [
    "wiecej(100)"
   ]
  },
  {
   "cell_type": "code",
   "execution_count": null,
   "metadata": {},
   "outputs": [],
   "source": [
    "wiecej(100, ile=10)"
   ]
  },
  {
   "cell_type": "code",
   "execution_count": null,
   "metadata": {},
   "outputs": [],
   "source": [
    "def _slownie(n, jednostki=None):\n",
    "    if jednostki:\n",
    "        wynik = dodaj_jednostke(do999(n%1000), jednostki)\n",
    "    else:\n",
    "        wynik = do999(n%1000)\n",
    "    \n",
    "    if n>999:\n",
    "        n=n//1000\n",
    "        wynik = dodaj_jednostke(do999(n%1000), ['tysiąc', 'tysiące', 'tysięcy']) + wynik\n",
    "    if n>999:\n",
    "        n=n//1000\n",
    "        wynik = dodaj_jednostke(do999(n%1000), ['milion', 'miliony', 'milionów']) + wynik\n",
    "    if n>999:\n",
    "        n=n//1000\n",
    "        wynik = dodaj_jednostke(do999(n%1000), ['miliard', 'miliardy', 'miliardów']) + wynik\n",
    "        \n",
    "    return wynik\n",
    "\n",
    "def slownie(n, jednostki= None):\n",
    "    lista = _slownie(n, jednostki)\n",
    "    wynik = ''\n",
    "    for i in range(len(lista)):\n",
    "        wynik = wynik + lista[i][1]\n",
    "        if (i+1<len(lista)) and len(lista[i][1])>0:\n",
    "            wynik = wynik+' '\n",
    "    return wynik"
   ]
  },
  {
   "cell_type": "code",
   "execution_count": null,
   "metadata": {},
   "outputs": [],
   "source": [
    "slownie(1984)"
   ]
  },
  {
   "cell_type": "code",
   "execution_count": null,
   "metadata": {},
   "outputs": [],
   "source": [
    "zlote=['złoty', 'złote', 'złotych']\n",
    "\n",
    "slownie(1984, zlote)"
   ]
  },
  {
   "cell_type": "raw",
   "metadata": {},
   "source": [
    "do999 -------------\\\n",
    "                    ------> *_slownie -----> *slownie \n",
    "dodaj_jednostke ---/"
   ]
  },
  {
   "cell_type": "code",
   "execution_count": null,
   "metadata": {},
   "outputs": [],
   "source": [
    "def test_var_args(farg, *args):\n",
    "    print (\"formal arg:\", farg)\n",
    "    print(args)\n",
    "    for arg in args:\n",
    "        print (\"another arg:\", arg)"
   ]
  },
  {
   "cell_type": "code",
   "execution_count": null,
   "metadata": {},
   "outputs": [],
   "source": [
    "test_var_args(1, \"two\", 3)"
   ]
  },
  {
   "cell_type": "code",
   "execution_count": null,
   "metadata": {},
   "outputs": [],
   "source": [
    "def test_var_kwargs(farg, **kwargs):\n",
    "    print (\"formal arg:\", farg)\n",
    "    for key in kwargs:\n",
    "        print (\"another keyword arg: %s: %s\" % (key, kwargs[key]))\n",
    "    print (kwargs)"
   ]
  },
  {
   "cell_type": "code",
   "execution_count": null,
   "metadata": {},
   "outputs": [],
   "source": [
    "test_var_kwargs(farg=1, myarg2=\"two\", myarg3=3)"
   ]
  },
  {
   "cell_type": "code",
   "execution_count": null,
   "metadata": {},
   "outputs": [],
   "source": [
    "def test_var_args_call(arg1, arg2, arg3):\n",
    "    print (\"arg1:\", arg1)\n",
    "    print (\"arg2:\", arg2)\n",
    "    print (\"arg3:\", arg3)\n",
    "args = (\"two\", 3)\n",
    "test_var_args_call(1, *args)"
   ]
  },
  {
   "cell_type": "code",
   "execution_count": null,
   "metadata": {},
   "outputs": [],
   "source": [
    "kwargs = {\"arg3\": 3, \"arg2\": \"two\"}\n",
    "test_var_args_call(1, **kwargs)"
   ]
  },
  {
   "cell_type": "code",
   "execution_count": null,
   "metadata": {},
   "outputs": [],
   "source": [
    "def new_person(**kwargs):\n",
    "    kwargs['record_type'] = 'person' \n",
    "    return kwargs"
   ]
  },
  {
   "cell_type": "code",
   "execution_count": null,
   "metadata": {},
   "outputs": [],
   "source": [
    "new_person(name='John', surname='Smith', age='55')"
   ]
  },
  {
   "cell_type": "markdown",
   "metadata": {},
   "source": [
    "## Instrukcje sterujące"
   ]
  },
  {
   "cell_type": "code",
   "execution_count": null,
   "metadata": {},
   "outputs": [],
   "source": [
    "for i in range(5):\n",
    "    print (i)"
   ]
  },
  {
   "cell_type": "code",
   "execution_count": null,
   "metadata": {},
   "outputs": [],
   "source": [
    "n = 1\n",
    "if n % 2 == 2:\n",
    "    print (\"Parzyste\")\n",
    "else:\n",
    "    print (\"Nieparzyste\")"
   ]
  },
  {
   "cell_type": "code",
   "execution_count": null,
   "metadata": {},
   "outputs": [],
   "source": [
    "n = 1\n",
    "m = 2\n",
    "if n % 2 == 0:\n",
    "    print (\"N Parzyste\")\n",
    "elif m % 2 == 0:\n",
    "    print (\"M parzyste\")\n",
    "else:\n",
    "    print (\"Obie Nieparzyste\")"
   ]
  },
  {
   "cell_type": "code",
   "execution_count": null,
   "metadata": {},
   "outputs": [],
   "source": [
    "n = 3 if m == 3 else 1 #?:\n",
    "print (n)"
   ]
  },
  {
   "cell_type": "code",
   "execution_count": null,
   "metadata": {},
   "outputs": [],
   "source": [
    "n = 0\n",
    "while n < 5:\n",
    "    print (n)\n",
    "    n += 1"
   ]
  },
  {
   "cell_type": "code",
   "execution_count": null,
   "metadata": {},
   "outputs": [],
   "source": [
    "n = 0\n",
    "while True:\n",
    "    print (n)\n",
    "    n += 1\n",
    "    if n >= 5:\n",
    "        break\n"
   ]
  },
  {
   "cell_type": "code",
   "execution_count": null,
   "metadata": {},
   "outputs": [],
   "source": [
    "n = 0\n",
    "while True:\n",
    "    print (n)\n",
    "    n += 1\n",
    "    if n < 5:\n",
    "        continue\n",
    "    break"
   ]
  },
  {
   "cell_type": "code",
   "execution_count": null,
   "metadata": {},
   "outputs": [],
   "source": [
    "n = 0\n",
    "while n < 5:\n",
    "    print (n)\n",
    "    n += 1\n",
    "else:\n",
    "    print (\"Else\")"
   ]
  },
  {
   "cell_type": "code",
   "execution_count": null,
   "metadata": {},
   "outputs": [],
   "source": [
    "for i in range(5):\n",
    "    print (i)\n",
    "else:\n",
    "    print (\"Else\")"
   ]
  },
  {
   "cell_type": "markdown",
   "metadata": {},
   "source": [
    "## Czymże jest prawda ?"
   ]
  },
  {
   "cell_type": "code",
   "execution_count": null,
   "metadata": {},
   "outputs": [],
   "source": [
    "if 0:\n",
    "    print (\"prawda\")\n",
    "else:\n",
    "    print (\"fałsz\")"
   ]
  },
  {
   "cell_type": "code",
   "execution_count": null,
   "metadata": {},
   "outputs": [],
   "source": [
    "if None:\n",
    "    print (\"prawda\")\n",
    "else:\n",
    "    print (\"fałsz\")"
   ]
  },
  {
   "cell_type": "code",
   "execution_count": null,
   "metadata": {},
   "outputs": [],
   "source": [
    "if \"\":\n",
    "    print (\"prawda\")\n",
    "else:\n",
    "    print (\"fałsz\")"
   ]
  },
  {
   "cell_type": "code",
   "execution_count": null,
   "metadata": {},
   "outputs": [],
   "source": [
    "if []:\n",
    "    print (\"prawda\")\n",
    "else:\n",
    "    print (\"fałsz\")"
   ]
  },
  {
   "cell_type": "code",
   "execution_count": null,
   "metadata": {},
   "outputs": [],
   "source": [
    "if {}:\n",
    "    print (\"prawda\")\n",
    "else:\n",
    "    print (\"fałsz\")"
   ]
  },
  {
   "cell_type": "markdown",
   "metadata": {},
   "source": [
    "## Iteratory i Generatory"
   ]
  },
  {
   "cell_type": "code",
   "execution_count": null,
   "metadata": {},
   "outputs": [],
   "source": [
    "print (range(5))"
   ]
  },
  {
   "cell_type": "code",
   "execution_count": null,
   "metadata": {},
   "outputs": [],
   "source": [
    "for i in range(5):\n",
    "    print (i)"
   ]
  },
  {
   "cell_type": "markdown",
   "metadata": {},
   "source": [
    "### *Generatory* są mechanizmem\n",
    "* tworzenia iteratorów\n",
    "* Zwraca dane przez *yield*\n",
    "* Każde wywołanie _next()_ zaczyna od miejsca gdzie skończył poprzedni krok\n",
    "* _next()_ tworzona jest automatycznie\n"
   ]
  },
  {
   "cell_type": "code",
   "execution_count": null,
   "metadata": {},
   "outputs": [],
   "source": [
    "def reverse(data):\n",
    "    for index in range(len(data)-1, -1, -1):\n",
    "        print(index)\n",
    "        yield data[index]"
   ]
  },
  {
   "cell_type": "code",
   "execution_count": null,
   "metadata": {},
   "outputs": [],
   "source": [
    "for c in reverse('Python'):\n",
    "    print (c)"
   ]
  },
  {
   "cell_type": "code",
   "execution_count": null,
   "metadata": {},
   "outputs": [],
   "source": [
    "def fib(n):\n",
    "    if n == 0 or n == 1:\n",
    "        return n\n",
    "    else:\n",
    "        return fib(n-1) + fib(n-2)"
   ]
  },
  {
   "cell_type": "code",
   "execution_count": null,
   "metadata": {},
   "outputs": [],
   "source": [
    "for i in range(36):\n",
    "    print (\"n=%d => %d\" % (i, fib(i)))"
   ]
  },
  {
   "cell_type": "code",
   "execution_count": null,
   "metadata": {},
   "outputs": [],
   "source": [
    "def fib(n):\n",
    "    a, b = 0, 1\n",
    "    i=0\n",
    "    while i < n:\n",
    "        yield (i, a)\n",
    "        a, b = b, a + b\n",
    "        i += 1"
   ]
  },
  {
   "cell_type": "code",
   "execution_count": null,
   "metadata": {},
   "outputs": [],
   "source": [
    "for i, f in fib(36):\n",
    "    print (\"n=%d => %d\" % (i, f))"
   ]
  },
  {
   "cell_type": "markdown",
   "metadata": {},
   "source": [
    "### String format - jest wiele sposobów"
   ]
  },
  {
   "cell_type": "code",
   "execution_count": null,
   "metadata": {},
   "outputs": [],
   "source": [
    "\"%d jest liczbą\" % 3"
   ]
  },
  {
   "cell_type": "code",
   "execution_count": null,
   "metadata": {},
   "outputs": [],
   "source": [
    "\"%d jest liczbą, i %d też jest liczbą\" % 3"
   ]
  },
  {
   "cell_type": "code",
   "execution_count": null,
   "metadata": {},
   "outputs": [],
   "source": [
    "str(3) +\" jest liczbą, i \" + str(7) + \" też jest liczbą\""
   ]
  },
  {
   "cell_type": "code",
   "execution_count": null,
   "metadata": {},
   "outputs": [],
   "source": [
    "\"pi to jest mniej więcej %.2f \" % 3.141526"
   ]
  },
  {
   "cell_type": "markdown",
   "metadata": {},
   "source": [
    "## Generator Expressions\n"
   ]
  },
  {
   "cell_type": "raw",
   "metadata": {},
   "source": [
    "x for x in range(10)\n",
    "\n",
    "x*x for x in range(10)\n",
    "\n",
    "(x*y for x in range(10) for y in range(x))\n",
    "\n",
    "x*x for x in range(10) if x % 2 == 0\n"
   ]
  },
  {
   "cell_type": "raw",
   "metadata": {},
   "source": [
    "List + Generator Expression\n",
    "           =     \n",
    "    List comprehension"
   ]
  },
  {
   "cell_type": "code",
   "execution_count": null,
   "metadata": {},
   "outputs": [],
   "source": [
    "[ x for x in range(10)]"
   ]
  },
  {
   "cell_type": "code",
   "execution_count": null,
   "metadata": {},
   "outputs": [],
   "source": [
    "[ x*x for x in range(10)]"
   ]
  },
  {
   "cell_type": "code",
   "execution_count": null,
   "metadata": {},
   "outputs": [],
   "source": [
    "[ x*x for x in range(10) if x % 2 == 0 ]"
   ]
  },
  {
   "cell_type": "code",
   "execution_count": null,
   "metadata": {},
   "outputs": [],
   "source": [
    "{ x:x*x for x in range(10) if x % 2 == 0 }"
   ]
  },
  {
   "cell_type": "code",
   "execution_count": null,
   "metadata": {},
   "outputs": [],
   "source": [
    "(x*y for x in range(10) for y in range(x))"
   ]
  },
  {
   "cell_type": "code",
   "execution_count": null,
   "metadata": {},
   "outputs": [],
   "source": [
    "[x*y for x in range(10) for y in range(x)]"
   ]
  },
  {
   "cell_type": "code",
   "execution_count": null,
   "metadata": {},
   "outputs": [],
   "source": [
    "[(x,y,x*y) for x in range(10) for y in range(x)]"
   ]
  },
  {
   "cell_type": "markdown",
   "metadata": {},
   "source": [
    "## Obsluga bledow"
   ]
  },
  {
   "cell_type": "code",
   "execution_count": null,
   "metadata": {},
   "outputs": [],
   "source": [
    "l = [1, 2, 3, 4]\n",
    "l[5]"
   ]
  },
  {
   "cell_type": "code",
   "execution_count": null,
   "metadata": {},
   "outputs": [],
   "source": [
    "try:\n",
    "    l = [ 1, 2, 3, 4 ]\n",
    "    l[5]\n",
    "except IndexError as e:\n",
    "    print (e)\n",
    "    print (\"ale idziemy dalej\")"
   ]
  },
  {
   "cell_type": "code",
   "execution_count": null,
   "metadata": {},
   "outputs": [],
   "source": [
    "try:\n",
    "    l = [ 1, 2, 3, 4 ]\n",
    "    l[0]\n",
    "except IndexError as e:\n",
    "    print (e)\n",
    "    print (\"ale idziemy dalej\")\n",
    "finally:\n",
    "    print (\"doszlismy do konca\")"
   ]
  },
  {
   "cell_type": "code",
   "execution_count": null,
   "metadata": {},
   "outputs": [],
   "source": [
    "def wez5(l):\n",
    "    try:\n",
    "        return l[5]\n",
    "    finally:\n",
    "        print (\"w srodku\")\n",
    "try:\n",
    "    l = [ 1, 2, 3, 4 ]\n",
    "    wez5(l)\n",
    "except IndexError as e:\n",
    "    print (e)\n",
    "    print (\"ale idziemy dalej\") "
   ]
  },
  {
   "cell_type": "markdown",
   "metadata": {},
   "source": [
    "# Cztery Zasady obsługi błedów\n",
    "\n",
    "## 0. S#!t happens\n",
    "\n",
    "## 1. Rzucaj jak najwcześniej (jak najniżej)\n",
    "\n",
    "## 2. Łap jak najpóźniej (jak najwyżej)\n",
    "\n",
    "## 3. Finally sprząta!\n",
    "\n",
    "## 4. Łap konkretne błędy (unikaj except Exception as e)\n",
    "\n"
   ]
  },
  {
   "cell_type": "code",
   "execution_count": null,
   "metadata": {},
   "outputs": [],
   "source": [
    "def wez5(l):\n",
    "    try:\n",
    "        return l[5]\n",
    "    except IndexError as e:\n",
    "        print (\"przerzucam dalej\")\n",
    "        raise (e)\n",
    "    finally:\n",
    "        print (\"finally w srodku\")\n",
    "\n",
    "###########################################        \n",
    "try:\n",
    "    l = [ 1, 2, 3, 4 ]\n",
    "    wez5(l)\n",
    "except IndexError as e:\n",
    "    print (e)\n",
    "    print (\"ale idziemy dalej\")"
   ]
  },
  {
   "cell_type": "code",
   "execution_count": null,
   "metadata": {},
   "outputs": [],
   "source": [
    "def wez5(l):\n",
    "    try:\n",
    "        return l[5]\n",
    "    except IndexError as e:\n",
    "        print (\"zostaje w 5\")\n",
    "    finally:\n",
    "        print (\"finally w srodku wez 5\")\n",
    "\n",
    "def wez7(l):\n",
    "    try:\n",
    "        return l[7]\n",
    "    finally:\n",
    "        print (\"finally w srodku wez 7\")\n"
   ]
  },
  {
   "cell_type": "code",
   "execution_count": null,
   "metadata": {},
   "outputs": [],
   "source": [
    "try:\n",
    "    l = [ 1, 2, 3, 4 ]\n",
    "    wez5(l)\n",
    "    wez7(l)\n",
    "except IndexError as e:\n",
    "    print (e)\n",
    "    print (\"ale idziemy dalej\")"
   ]
  },
  {
   "cell_type": "markdown",
   "metadata": {},
   "source": [
    "## Anatomia skryptu"
   ]
  },
  {
   "cell_type": "code",
   "execution_count": 1,
   "metadata": {},
   "outputs": [
    {
     "name": "stdout",
     "output_type": "stream",
     "text": [
      "__main__\n",
      "['C:\\\\Users\\\\Maciek\\\\Anaconda3\\\\lib\\\\site-packages\\\\ipykernel_launcher.py', '-f', 'C:\\\\Users\\\\Maciek\\\\AppData\\\\Roaming\\\\jupyter\\\\runtime\\\\kernel-b6a1d75b-b473-47ee-8ac3-a7de7c88ea45.json']\n"
     ]
    }
   ],
   "source": [
    "import sys\n",
    "\n",
    "m = { \"a\":1, \"b\":2 }\n",
    "\n",
    "if __name__ == '__main__':\n",
    "    print (__name__)\n",
    "    print (sys.argv)"
   ]
  },
  {
   "cell_type": "code",
   "execution_count": null,
   "metadata": {},
   "outputs": [],
   "source": [
    "import this"
   ]
  },
  {
   "cell_type": "markdown",
   "metadata": {},
   "source": [
    "## Type, zbiory, lista jako stos albo kolejka"
   ]
  },
  {
   "cell_type": "code",
   "execution_count": null,
   "metadata": {},
   "outputs": [],
   "source": [
    "stack=[3, 4, 5, 6, 7]\n",
    "stack.pop()"
   ]
  },
  {
   "cell_type": "code",
   "execution_count": null,
   "metadata": {},
   "outputs": [],
   "source": [
    "stack"
   ]
  },
  {
   "cell_type": "code",
   "execution_count": null,
   "metadata": {},
   "outputs": [],
   "source": [
    "stack.append(7)\n",
    "stack"
   ]
  },
  {
   "cell_type": "code",
   "execution_count": null,
   "metadata": {},
   "outputs": [],
   "source": [
    "queue=[3, 4, 5, 6, 7]\n",
    "queue.pop(0)"
   ]
  },
  {
   "cell_type": "code",
   "execution_count": null,
   "metadata": {},
   "outputs": [],
   "source": [
    "queue"
   ]
  },
  {
   "cell_type": "code",
   "execution_count": null,
   "metadata": {},
   "outputs": [],
   "source": [
    "del queue[0]\n",
    "queue"
   ]
  },
  {
   "cell_type": "code",
   "execution_count": null,
   "metadata": {},
   "outputs": [],
   "source": [
    "print type(\"\")\n",
    "print type(queue)\n",
    "print type(1)"
   ]
  },
  {
   "cell_type": "code",
   "execution_count": null,
   "metadata": {},
   "outputs": [],
   "source": [
    "zbior = set()"
   ]
  },
  {
   "cell_type": "code",
   "execution_count": null,
   "metadata": {},
   "outputs": [],
   "source": [
    "zbior.add(3)\n",
    "zbior.add(4)\n",
    "zbior.add(3)\n",
    "zbior"
   ]
  },
  {
   "cell_type": "markdown",
   "metadata": {},
   "source": [
    "## Zadanie 1"
   ]
  },
  {
   "cell_type": "markdown",
   "metadata": {},
   "source": [
    "Stworz funkcję która zwróci drugi najmniejszy element listy\n",
    "\n",
    "druginajmniejszy([1, 2, 3, 4, 6])\n",
    "\n",
    "2"
   ]
  },
  {
   "cell_type": "markdown",
   "metadata": {},
   "source": [
    "## Zadanie 2"
   ]
  },
  {
   "cell_type": "markdown",
   "metadata": {},
   "source": [
    "Stworz funkcję która usunie z listy najmniejszy element listy\n",
    "\n",
    "l = [4, 1, 2, 3]\n",
    "\n",
    "usun_min(l)\n",
    "\n",
    "l\n",
    "\n",
    "[4, 2, 3]"
   ]
  },
  {
   "cell_type": "markdown",
   "metadata": {},
   "source": [
    "## Zadanie 3"
   ]
  },
  {
   "cell_type": "markdown",
   "metadata": {},
   "source": [
    "Stworz funkcję która usunie \"wyplaszczy\" zagnieżdzone listy\n",
    "\n",
    "l = [4, 1, [ 2, [7] ], 3]\n",
    "\n",
    "wyplaszcz(l)\n",
    "\n",
    "l\n",
    "\n",
    "[4, 1, 2, 7, 3]"
   ]
  },
  {
   "cell_type": "markdown",
   "metadata": {},
   "source": [
    "## Zadanie 4"
   ]
  },
  {
   "cell_type": "markdown",
   "metadata": {},
   "source": [
    "Wygenerować listę liczb z zakresu 1-1000 które nie są podzielne przez żadną cyfrę od 2 do 9."
   ]
  }
 ],
 "metadata": {
  "kernelspec": {
   "display_name": "Python 3",
   "language": "python",
   "name": "python3"
  },
  "language_info": {
   "codemirror_mode": {
    "name": "ipython",
    "version": 3
   },
   "file_extension": ".py",
   "mimetype": "text/x-python",
   "name": "python",
   "nbconvert_exporter": "python",
   "pygments_lexer": "ipython3",
   "version": "3.7.4"
  },
  "widgets": {
   "application/vnd.jupyter.widget-state+json": {
    "state": {},
    "version_major": 2,
    "version_minor": 0
   }
  }
 },
 "nbformat": 4,
 "nbformat_minor": 4
}
