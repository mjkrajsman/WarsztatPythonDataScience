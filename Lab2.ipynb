{
 "cells": [
  {
   "cell_type": "markdown",
   "metadata": {},
   "source": [
    "# Lab 2"
   ]
  },
  {
   "cell_type": "raw",
   "metadata": {},
   "source": [
    "Stworz funkcję która zwróci drugi najmniejszy element listy\n",
    "\n",
    "druginajmniejszy([1, 2, 3, 4, 6])\n",
    "\n",
    "2"
   ]
  },
  {
   "cell_type": "code",
   "execution_count": null,
   "metadata": {},
   "outputs": [],
   "source": [
    "def druginajmniejszy(lista):\n",
    "    if len(lista) < 2:\n",
    "        return lista[0]\n",
    "    if lista[0] > lista[1]:\n",
    "        pierwszy, drugi = lista[1], lista[0]\n",
    "    else:\n",
    "        pierwszy, drugi = lista[0], lista[1]\n",
    "    for x in lista[2:]:\n",
    "        print (x, pierwszy, drugi)\n",
    "        if x < drugi and x!=pierwszy:\n",
    "            if x < pierwszy:\n",
    "                pierwszy, drugi = x, pierwszy\n",
    "            else:\n",
    "                drugi = x\n",
    "    return drugi"
   ]
  },
  {
   "cell_type": "code",
   "execution_count": null,
   "metadata": {},
   "outputs": [],
   "source": [
    "druginajmniejszy([2,1,3,4,5])"
   ]
  },
  {
   "cell_type": "code",
   "execution_count": null,
   "metadata": {},
   "outputs": [],
   "source": [
    "druginajmniejszy([1,2,2,1,3,4,5])"
   ]
  },
  {
   "cell_type": "markdown",
   "metadata": {},
   "source": [
    "# Zadanie 2"
   ]
  },
  {
   "cell_type": "markdown",
   "metadata": {},
   "source": [
    "Stworz funkcję która usunie z listy najmniejszy element listy\n",
    "\n",
    "l = [4, 1, 2, 3]\n",
    "\n",
    "usun_min(l)\n",
    "\n",
    "l\n",
    "\n",
    "[4, 2, 3]"
   ]
  },
  {
   "cell_type": "code",
   "execution_count": null,
   "metadata": {},
   "outputs": [],
   "source": [
    "def usun_min(lista):\n",
    "    do_usuniecia = set()\n",
    "    for i in range(len(lista)):\n",
    "        if lista[i]==min(lista):\n",
    "            do_usuniecia.add(i)\n",
    "    for i in range(len(lista)-1,-1,-1):\n",
    "        if i in do_usuniecia:\n",
    "            del lista[i]"
   ]
  },
  {
   "cell_type": "code",
   "execution_count": null,
   "metadata": {},
   "outputs": [],
   "source": [
    "l = [4, 1, 2, 3]\n",
    "usun_min(l)\n",
    "l"
   ]
  },
  {
   "cell_type": "code",
   "execution_count": null,
   "metadata": {},
   "outputs": [],
   "source": [
    "l = [4, 1, 1, 3]\n",
    "usun_min(l)\n",
    "l"
   ]
  },
  {
   "cell_type": "code",
   "execution_count": null,
   "metadata": {},
   "outputs": [],
   "source": [
    "# Frozenset i niezmienność"
   ]
  },
  {
   "cell_type": "code",
   "execution_count": null,
   "metadata": {},
   "outputs": [],
   "source": [
    "zbior = set()"
   ]
  },
  {
   "cell_type": "code",
   "execution_count": null,
   "metadata": {},
   "outputs": [],
   "source": [
    "zbior"
   ]
  },
  {
   "cell_type": "code",
   "execution_count": null,
   "metadata": {},
   "outputs": [],
   "source": [
    "zbior.add(\"ala\")"
   ]
  },
  {
   "cell_type": "code",
   "execution_count": null,
   "metadata": {},
   "outputs": [],
   "source": [
    "zbior"
   ]
  },
  {
   "cell_type": "code",
   "execution_count": null,
   "metadata": {},
   "outputs": [],
   "source": [
    "zbior.add(\"ma\")"
   ]
  },
  {
   "cell_type": "code",
   "execution_count": null,
   "metadata": {},
   "outputs": [],
   "source": [
    "zbior.add(\"kota\")"
   ]
  },
  {
   "cell_type": "code",
   "execution_count": null,
   "metadata": {},
   "outputs": [],
   "source": [
    "zbior.add(\"ala\")"
   ]
  },
  {
   "cell_type": "code",
   "execution_count": null,
   "metadata": {},
   "outputs": [],
   "source": [
    "zbior"
   ]
  },
  {
   "cell_type": "code",
   "execution_count": null,
   "metadata": {},
   "outputs": [],
   "source": [
    "zbior.add([1,2])"
   ]
  },
  {
   "cell_type": "code",
   "execution_count": null,
   "metadata": {},
   "outputs": [],
   "source": [
    "zbior.add((1,2))"
   ]
  },
  {
   "cell_type": "code",
   "execution_count": null,
   "metadata": {},
   "outputs": [],
   "source": [
    "zbior"
   ]
  },
  {
   "cell_type": "code",
   "execution_count": null,
   "metadata": {},
   "outputs": [],
   "source": [
    "zbior.add(zbior)"
   ]
  },
  {
   "cell_type": "code",
   "execution_count": null,
   "metadata": {},
   "outputs": [],
   "source": [
    "zbior.add(frozenset(zbior))"
   ]
  },
  {
   "cell_type": "code",
   "execution_count": null,
   "metadata": {},
   "outputs": [],
   "source": [
    "zbior"
   ]
  },
  {
   "cell_type": "code",
   "execution_count": null,
   "metadata": {},
   "outputs": [],
   "source": [
    "m = {}"
   ]
  },
  {
   "cell_type": "code",
   "execution_count": null,
   "metadata": {},
   "outputs": [],
   "source": [
    "m[ [1,2] ] = 1"
   ]
  },
  {
   "cell_type": "code",
   "execution_count": null,
   "metadata": {},
   "outputs": [],
   "source": [
    "m[ (1,2) ] = 1"
   ]
  },
  {
   "cell_type": "code",
   "execution_count": null,
   "metadata": {},
   "outputs": [],
   "source": [
    "fs = frozenset([1, 2, 3, 4, 5])\n",
    "\n",
    "size = len(fs)\n",
    "print('frozenset size =', size)\n",
    "\n",
    "contains_item = 5 in fs\n",
    "print('fs contains 5 =', contains_item)\n",
    "\n",
    "not_contains_item = 6 not in fs\n",
    "print('fs not contains 6 =', not_contains_item)\n",
    "\n",
    "is_disjoint = fs.isdisjoint(frozenset([1, 2]))\n",
    "print(is_disjoint)\n",
    "\n",
    "is_disjoint = fs.isdisjoint(frozenset([10, 20]))\n",
    "print(is_disjoint)\n",
    "\n",
    "is_subset = fs.issubset(set([1, 2]))\n",
    "print(is_subset)\n",
    "\n",
    "is_subset = fs.issubset(set([1, 2, 3, 4, 5, 6, 7]))\n",
    "print(is_subset)\n",
    "\n",
    "is_superset = fs.issuperset(frozenset([1, 2]))\n",
    "print(is_superset)\n",
    "\n",
    "is_superset = fs.issuperset(frozenset([1, 2, 10]))\n",
    "print(is_superset)\n",
    "\n",
    "fs1 = fs.union(frozenset([1, 2, 10]), set([99, 98]))\n",
    "print(fs1)\n",
    "\n",
    "fs1 = fs.intersection(set((1, 2, 10, 20)))\n",
    "print(fs1)\n",
    "\n",
    "fs1 = fs.difference(frozenset([1, 2, 3]))\n",
    "print(fs1)\n",
    "\n",
    "fs1 = fs.symmetric_difference(frozenset([1, 2, 10, 20]))\n",
    "print(fs1)\n",
    "\n",
    "fs1 = fs.copy()\n",
    "print(fs1)"
   ]
  },
  {
   "cell_type": "markdown",
   "metadata": {},
   "source": [
    "# Zadanie na dziś 1"
   ]
  },
  {
   "cell_type": "markdown",
   "metadata": {},
   "source": [
    "Napisać `skrypt` który zliczy ilość wystąpień parametrów z linii komend"
   ]
  },
  {
   "cell_type": "raw",
   "metadata": {},
   "source": [
    "PS C:\\work\\conda\\WarsztatPythonDataScience> python .\\simple_script.py asdf asdf as as as\n",
    "{'asdf': 2, 'as': 3}"
   ]
  },
  {
   "cell_type": "markdown",
   "metadata": {},
   "source": [
    "# Zadanie na dziś 2"
   ]
  },
  {
   "cell_type": "markdown",
   "metadata": {},
   "source": [
    "Napisać `skrypt` który zliczy ilość wystąpień znaków w parametrach z linii komend"
   ]
  },
  {
   "cell_type": "raw",
   "metadata": {},
   "source": [
    "PS C:\\work\\conda\\WarsztatPythonDataScience> python .\\simple_script.py asdf asdf as as as\n",
    "{'a': 5, 's': 5, 'd': 2, 'f': 2, ' ': 4}"
   ]
  },
  {
   "cell_type": "markdown",
   "metadata": {},
   "source": [
    "# Zadanie na dziś 3"
   ]
  },
  {
   "cell_type": "markdown",
   "metadata": {},
   "source": [
    "Wypisać wszystkie permutacje danej listy\n",
    "1. z wykorzystaniem itertools\n",
    "2. bez wykorzystania itertools"
   ]
  },
  {
   "cell_type": "raw",
   "metadata": {},
   "source": [
    "permutations([1,2,3])\n",
    "[(1, 2, 3), (1, 3, 2), (2, 1, 3), (2, 3, 1), (3, 1, 2), (3, 2, 1)] "
   ]
  },
  {
   "cell_type": "code",
   "execution_count": null,
   "metadata": {},
   "outputs": [],
   "source": [
    "import itertools\n",
    "\n",
    "def permutations(l):\n",
    "    res = list(itertools.permutations(l, 3))\n",
    "    return res\n",
    "\n",
    "permutations([1,2,3])"
   ]
  },
  {
   "cell_type": "code",
   "execution_count": null,
   "metadata": {},
   "outputs": [],
   "source": [
    "def permutations(l):\n",
    "    res = l\n",
    "    \n",
    "    return res\n",
    "\n",
    "permutations([1,2,3])"
   ]
  },
  {
   "cell_type": "markdown",
   "metadata": {},
   "source": [
    "# Zadanie na dziś 4"
   ]
  },
  {
   "cell_type": "markdown",
   "metadata": {},
   "source": [
    "Stworzyć funkcję `generuj(lista,n)` która zwielokrotni listę `lista` podaną jako pierwszy argument `n` razy dokładając licznik do elementów. Przykład:"
   ]
  },
  {
   "cell_type": "raw",
   "metadata": {},
   "source": [
    "generuj(['p', 'q'],5)\n",
    "\n",
    "['p1', 'q1', 'p2', 'q2', 'p3', 'q3', 'p4', 'q4', 'p5', 'q5']"
   ]
  },
  {
   "cell_type": "code",
   "execution_count": null,
   "metadata": {},
   "outputs": [],
   "source": [
    "def generuj(list, n):\n",
    "    res = []\n",
    "    for i in range(n):\n",
    "        res.append([x + str(i+1) for x in list])\n",
    "    return res\n",
    "\n",
    "generuj(['p', 'q'],5)"
   ]
  },
  {
   "cell_type": "markdown",
   "metadata": {},
   "source": [
    "# Zadanie na dziś 5"
   ]
  },
  {
   "cell_type": "markdown",
   "metadata": {},
   "source": [
    "Stworzyć funkcję `f(n)` która zbuduje `DataFrame` zawierającą tabliczkę mnożenia do `n` "
   ]
  },
  {
   "cell_type": "code",
   "execution_count": null,
   "metadata": {},
   "outputs": [],
   "source": [
    "import pandas as pd\n",
    "\n",
    "def f(n):\n",
    "    data = {m:[x*m for x in range(1,n+1)] for m in range(1,n+1)}\n",
    "    res = pd.DataFrame(data)\n",
    "    res.index += 1\n",
    "    return res\n",
    "\n",
    "f(15)"
   ]
  },
  {
   "cell_type": "markdown",
   "metadata": {},
   "source": [
    "# Zadanie na dziś 6"
   ]
  },
  {
   "cell_type": "markdown",
   "metadata": {},
   "source": [
    "Sprawdzić jakie operatory działają na `frozenset`. Wypisać nietrywialne przykłady ich działania"
   ]
  },
  {
   "cell_type": "code",
   "execution_count": null,
   "metadata": {},
   "outputs": [],
   "source": [
    "a = frozenset([1])\n",
    "b = frozenset([2])\n",
    "a+b"
   ]
  },
  {
   "cell_type": "markdown",
   "metadata": {},
   "source": [
    "# Python Arithmetic Operators"
   ]
  },
  {
   "cell_type": "code",
   "execution_count": null,
   "metadata": {},
   "outputs": [],
   "source": [
    "try:\n",
    "    a = frozenset([1])\n",
    "    b = frozenset([2])\n",
    "    c = a + b\n",
    "    print(c)\n",
    "except TypeError as e:\n",
    "    print(\"Error! \" + str(e))"
   ]
  },
  {
   "cell_type": "code",
   "execution_count": null,
   "metadata": {},
   "outputs": [],
   "source": [
    "try:\n",
    "    a = frozenset([1])\n",
    "    b = frozenset([2])\n",
    "    c = a - b\n",
    "    print(c)\n",
    "except TypeError as e:\n",
    "    print(\"Error! \" + str(e))"
   ]
  },
  {
   "cell_type": "code",
   "execution_count": null,
   "metadata": {},
   "outputs": [],
   "source": [
    "try:\n",
    "    a = frozenset([1])\n",
    "    b = frozenset([2])\n",
    "    c = a * b\n",
    "    print(c)\n",
    "except TypeError as e:\n",
    "    print(\"Error! \" + str(e))"
   ]
  },
  {
   "cell_type": "code",
   "execution_count": null,
   "metadata": {},
   "outputs": [],
   "source": [
    "try:\n",
    "    a = frozenset([1])\n",
    "    b = frozenset([2])\n",
    "    c = a / b\n",
    "    print(c)\n",
    "except TypeError as e:\n",
    "    print(\"Error! \" + str(e))"
   ]
  },
  {
   "cell_type": "code",
   "execution_count": null,
   "metadata": {},
   "outputs": [],
   "source": [
    "try:\n",
    "    a = frozenset([1])\n",
    "    b = frozenset([2])\n",
    "    c = a % b\n",
    "    print(c)\n",
    "except TypeError as e:\n",
    "    print(\"Error! \" + str(e))"
   ]
  },
  {
   "cell_type": "code",
   "execution_count": null,
   "metadata": {},
   "outputs": [],
   "source": [
    "try:\n",
    "    a = frozenset([1])\n",
    "    b = frozenset([2])\n",
    "    c = a ** b\n",
    "    print(c)\n",
    "except TypeError as e:\n",
    "    print(\"Error! \" + str(e))"
   ]
  },
  {
   "cell_type": "code",
   "execution_count": null,
   "metadata": {},
   "outputs": [],
   "source": [
    "try:\n",
    "    a = frozenset([1])\n",
    "    b = frozenset([2])\n",
    "    c = a // b\n",
    "    print(c)\n",
    "except TypeError as e:\n",
    "    print(\"Error! \" + str(e))"
   ]
  },
  {
   "cell_type": "markdown",
   "metadata": {},
   "source": [
    "# Python Assignment Operators"
   ]
  },
  {
   "cell_type": "code",
   "execution_count": null,
   "metadata": {},
   "outputs": [],
   "source": [
    "try:\n",
    "    a = frozenset([1])\n",
    "    b = frozenset([2])\n",
    "    a = b\n",
    "    print(\"OK\")\n",
    "except TypeError as e:\n",
    "    print(\"Error! \" + str(e))"
   ]
  },
  {
   "cell_type": "code",
   "execution_count": null,
   "metadata": {},
   "outputs": [],
   "source": [
    "try:\n",
    "    a = frozenset([1])\n",
    "    b = frozenset([2])\n",
    "    a += b\n",
    "    print(\"OK\")\n",
    "except TypeError as e:\n",
    "    print(\"Error! \" + str(e))"
   ]
  },
  {
   "cell_type": "code",
   "execution_count": null,
   "metadata": {},
   "outputs": [],
   "source": [
    "try:\n",
    "    a = frozenset([1])\n",
    "    b = frozenset([2])\n",
    "    a -= b\n",
    "    print(\"OK\")\n",
    "except TypeError as e:\n",
    "    print(\"Error! \" + str(e))"
   ]
  },
  {
   "cell_type": "code",
   "execution_count": null,
   "metadata": {},
   "outputs": [],
   "source": [
    "try:\n",
    "    a = frozenset([1])\n",
    "    b = frozenset([2])\n",
    "    a *= b\n",
    "    print(\"OK\")\n",
    "except TypeError as e:\n",
    "    print(\"Error! \" + str(e))"
   ]
  },
  {
   "cell_type": "code",
   "execution_count": null,
   "metadata": {},
   "outputs": [],
   "source": [
    "try:\n",
    "    a = frozenset([1])\n",
    "    b = frozenset([2])\n",
    "    a /= b\n",
    "    print(\"OK\")\n",
    "except TypeError as e:\n",
    "    print(\"Error! \" + str(e))"
   ]
  },
  {
   "cell_type": "code",
   "execution_count": null,
   "metadata": {},
   "outputs": [],
   "source": [
    "try:\n",
    "    a = frozenset([1])\n",
    "    b = frozenset([2])\n",
    "    a %= b\n",
    "    print(\"OK\")\n",
    "except TypeError as e:\n",
    "    print(\"Error! \" + str(e))"
   ]
  },
  {
   "cell_type": "code",
   "execution_count": null,
   "metadata": {},
   "outputs": [],
   "source": [
    "try:\n",
    "    a = frozenset([1])\n",
    "    b = frozenset([2])\n",
    "    a //= b\n",
    "    print(\"OK\")\n",
    "except TypeError as e:\n",
    "    print(\"Error! \" + str(e))"
   ]
  },
  {
   "cell_type": "code",
   "execution_count": null,
   "metadata": {},
   "outputs": [],
   "source": [
    "try:\n",
    "    a = frozenset([1])\n",
    "    b = frozenset([2])\n",
    "    a **= b\n",
    "    print(\"OK\")\n",
    "except TypeError as e:\n",
    "    print(\"Error! \" + str(e))"
   ]
  },
  {
   "cell_type": "code",
   "execution_count": null,
   "metadata": {},
   "outputs": [],
   "source": [
    "try:\n",
    "    a = frozenset([1])\n",
    "    b = frozenset([2])\n",
    "    a &= b\n",
    "    print(\"OK\")\n",
    "except TypeError as e:\n",
    "    print(\"Error! \" + str(e))"
   ]
  },
  {
   "cell_type": "code",
   "execution_count": null,
   "metadata": {},
   "outputs": [],
   "source": [
    "try:\n",
    "    a = frozenset([1])\n",
    "    b = frozenset([2])\n",
    "    a |= b\n",
    "    print(\"OK\")\n",
    "except TypeError as e:\n",
    "    print(\"Error! \" + str(e))"
   ]
  },
  {
   "cell_type": "code",
   "execution_count": null,
   "metadata": {},
   "outputs": [],
   "source": [
    "try:\n",
    "    a = frozenset([1])\n",
    "    b = frozenset([2])\n",
    "    a ^= b\n",
    "    print(\"OK\")\n",
    "except TypeError as e:\n",
    "    print(\"Error! \" + str(e))"
   ]
  },
  {
   "cell_type": "code",
   "execution_count": null,
   "metadata": {},
   "outputs": [],
   "source": [
    "try:\n",
    "    a = frozenset([1])\n",
    "    b = frozenset([2])\n",
    "    a >>= b\n",
    "    print(\"OK\")\n",
    "except TypeError as e:\n",
    "    print(\"Error! \" + str(e))"
   ]
  },
  {
   "cell_type": "code",
   "execution_count": null,
   "metadata": {},
   "outputs": [],
   "source": [
    "try:\n",
    "    a = frozenset([1])\n",
    "    b = frozenset([2])\n",
    "    a <<= b\n",
    "    print(\"OK\")\n",
    "except TypeError as e:\n",
    "    print(\"Error! \" + str(e))"
   ]
  },
  {
   "cell_type": "markdown",
   "metadata": {},
   "source": [
    "# Python Comparison Operators"
   ]
  },
  {
   "cell_type": "code",
   "execution_count": null,
   "metadata": {},
   "outputs": [],
   "source": [
    "try:\n",
    "    a = frozenset([1])\n",
    "    b = frozenset([2])\n",
    "    c = a == b\n",
    "    print(c)\n",
    "except TypeError as e:\n",
    "    print(\"Error! \" + str(e))"
   ]
  },
  {
   "cell_type": "code",
   "execution_count": null,
   "metadata": {},
   "outputs": [],
   "source": [
    "try:\n",
    "    a = frozenset([1])\n",
    "    b = frozenset([2])\n",
    "    c = a != b\n",
    "    print(c)\n",
    "except TypeError as e:\n",
    "    print(\"Error! \" + str(e))"
   ]
  },
  {
   "cell_type": "code",
   "execution_count": null,
   "metadata": {},
   "outputs": [],
   "source": [
    "try:\n",
    "    a = frozenset([1])\n",
    "    b = frozenset([2])\n",
    "    c = a > b\n",
    "    print(c)\n",
    "except TypeError as e:\n",
    "    print(\"Error! \" + str(e))"
   ]
  },
  {
   "cell_type": "code",
   "execution_count": null,
   "metadata": {},
   "outputs": [],
   "source": [
    "try:\n",
    "    a = frozenset([1])\n",
    "    b = frozenset([2])\n",
    "    c = a < b\n",
    "    print(c)\n",
    "except TypeError as e:\n",
    "    print(\"Error! \" + str(e))"
   ]
  },
  {
   "cell_type": "code",
   "execution_count": null,
   "metadata": {},
   "outputs": [],
   "source": [
    "try:\n",
    "    a = frozenset([1])\n",
    "    b = frozenset([2])\n",
    "    c = a >= b\n",
    "    print(c)\n",
    "except TypeError as e:\n",
    "    print(\"Error! \" + str(e))"
   ]
  },
  {
   "cell_type": "code",
   "execution_count": null,
   "metadata": {},
   "outputs": [],
   "source": [
    "try:\n",
    "    a = frozenset([1])\n",
    "    b = frozenset([2])\n",
    "    c = a <= b\n",
    "    print(c)\n",
    "except TypeError as e:\n",
    "    print(\"Error! \" + str(e))"
   ]
  },
  {
   "cell_type": "markdown",
   "metadata": {},
   "source": [
    "# Python Logical Operators"
   ]
  },
  {
   "cell_type": "code",
   "execution_count": null,
   "metadata": {},
   "outputs": [],
   "source": [
    "try:\n",
    "    a = frozenset([1])\n",
    "    b = frozenset([2])\n",
    "    a and b\n",
    "    print(\"OK\")\n",
    "except TypeError as e:\n",
    "    print(\"Error! \" + str(e))"
   ]
  },
  {
   "cell_type": "code",
   "execution_count": null,
   "metadata": {},
   "outputs": [],
   "source": [
    "try:\n",
    "    a = frozenset([1])\n",
    "    b = frozenset([2])\n",
    "    a or b\n",
    "    print(\"OK\")\n",
    "except TypeError as e:\n",
    "    print(\"Error! \" + str(e))"
   ]
  },
  {
   "cell_type": "code",
   "execution_count": null,
   "metadata": {},
   "outputs": [],
   "source": [
    "try:\n",
    "    a = frozenset([1])\n",
    "    b = frozenset([2])\n",
    "    not(a and b)\n",
    "    print(\"OK\")\n",
    "except TypeError as e:\n",
    "    print(\"Error! \" + str(e))"
   ]
  },
  {
   "cell_type": "markdown",
   "metadata": {},
   "source": [
    "# Python Identity Operators"
   ]
  },
  {
   "cell_type": "code",
   "execution_count": null,
   "metadata": {},
   "outputs": [],
   "source": [
    "try:\n",
    "    a = frozenset([1])\n",
    "    b = frozenset([2])\n",
    "    c = a is b\n",
    "    print(c)\n",
    "except TypeError as e:\n",
    "    print(\"Error! \" + str(e))"
   ]
  },
  {
   "cell_type": "code",
   "execution_count": null,
   "metadata": {},
   "outputs": [],
   "source": [
    "try:\n",
    "    a = frozenset([1])\n",
    "    b = frozenset([2])\n",
    "    c = a is not b\n",
    "    print(c)\n",
    "except TypeError as e:\n",
    "    print(\"Error! \" + str(e))"
   ]
  },
  {
   "cell_type": "markdown",
   "metadata": {},
   "source": [
    "# Python Membership Operators"
   ]
  },
  {
   "cell_type": "code",
   "execution_count": null,
   "metadata": {},
   "outputs": [],
   "source": [
    "try:\n",
    "    a = frozenset([1])\n",
    "    b = frozenset([2])\n",
    "    c = a in b\n",
    "    print(c)\n",
    "except TypeError as e:\n",
    "    print(\"Error! \" + str(e))"
   ]
  },
  {
   "cell_type": "code",
   "execution_count": null,
   "metadata": {},
   "outputs": [],
   "source": [
    "try:\n",
    "    a = frozenset([1])\n",
    "    b = frozenset([2])\n",
    "    c = a not in b\n",
    "    print(c)\n",
    "except TypeError as e:\n",
    "    print(\"Error! \" + str(e))"
   ]
  },
  {
   "cell_type": "markdown",
   "metadata": {},
   "source": [
    "# Python Bitwise Operators"
   ]
  },
  {
   "cell_type": "markdown",
   "metadata": {},
   "source": [
    "work only on integers, but let's try them"
   ]
  },
  {
   "cell_type": "code",
   "execution_count": null,
   "metadata": {},
   "outputs": [],
   "source": [
    "try:\n",
    "    a = frozenset([1])\n",
    "    b = frozenset([2])\n",
    "    c = a & b\n",
    "    print(c)\n",
    "except TypeError as e:\n",
    "    print(\"Error! \" + str(e))"
   ]
  },
  {
   "cell_type": "code",
   "execution_count": null,
   "metadata": {},
   "outputs": [],
   "source": [
    "try:\n",
    "    a = frozenset([1])\n",
    "    b = frozenset([2])\n",
    "    c = a | b\n",
    "    print(c)\n",
    "except TypeError as e:\n",
    "    print(\"Error! \" + str(e))"
   ]
  },
  {
   "cell_type": "code",
   "execution_count": null,
   "metadata": {},
   "outputs": [],
   "source": [
    "try:\n",
    "    a = frozenset([1])\n",
    "    b = frozenset([2])\n",
    "    c = a ^ b\n",
    "    print(c)\n",
    "except TypeError as e:\n",
    "    print(\"Error! \" + str(e))"
   ]
  },
  {
   "cell_type": "code",
   "execution_count": null,
   "metadata": {},
   "outputs": [],
   "source": [
    "try:\n",
    "    a = frozenset([1])\n",
    "    #b = frozenset([2])\n",
    "    c = ~a\n",
    "    print(c)\n",
    "except TypeError as e:\n",
    "    print(\"Error! \" + str(e))"
   ]
  },
  {
   "cell_type": "code",
   "execution_count": null,
   "metadata": {},
   "outputs": [],
   "source": [
    "try:\n",
    "    a = frozenset([1])\n",
    "    b = frozenset([2])\n",
    "    c = a<<\n",
    "    print(c)\n",
    "except TypeError as e:\n",
    "    print(\"Error! \" + str(e))"
   ]
  },
  {
   "cell_type": "code",
   "execution_count": null,
   "metadata": {},
   "outputs": [],
   "source": [
    "try:\n",
    "    a = frozenset([1])\n",
    "    b = frozenset([2])\n",
    "    c = a>>\n",
    "    print(c)\n",
    "except TypeError as e:\n",
    "    print(\"Error! \" + str(e))"
   ]
  }
 ],
 "metadata": {
  "kernelspec": {
   "display_name": "Python 3",
   "language": "python",
   "name": "python3"
  },
  "language_info": {
   "codemirror_mode": {
    "name": "ipython",
    "version": 3
   },
   "file_extension": ".py",
   "mimetype": "text/x-python",
   "name": "python",
   "nbconvert_exporter": "python",
   "pygments_lexer": "ipython3",
   "version": "3.7.4"
  }
 },
 "nbformat": 4,
 "nbformat_minor": 4
}
