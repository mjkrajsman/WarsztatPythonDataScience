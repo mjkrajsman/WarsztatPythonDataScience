{
 "cells": [
  {
   "cell_type": "markdown",
   "metadata": {},
   "source": [
    "# Lab 2"
   ]
  },
  {
   "cell_type": "raw",
   "metadata": {},
   "source": [
    "Stworz funkcję która zwróci drugi najmniejszy element listy\n",
    "\n",
    "druginajmniejszy([1, 2, 3, 4, 6])\n",
    "\n",
    "2"
   ]
  },
  {
   "cell_type": "code",
   "execution_count": null,
   "metadata": {},
   "outputs": [],
   "source": [
    "def druginajmniejszy(lista):\n",
    "    if len(lista) < 2:\n",
    "        return lista[0]\n",
    "    if lista[0] > lista[1]:\n",
    "        pierwszy, drugi = lista[1], lista[0]\n",
    "    else:\n",
    "        pierwszy, drugi = lista[0], lista[1]\n",
    "    for x in lista[2:]:\n",
    "        print (x, pierwszy, drugi)\n",
    "        if x < drugi and x!=pierwszy:\n",
    "            if x < pierwszy:\n",
    "                pierwszy, drugi = x, pierwszy\n",
    "            else:\n",
    "                drugi = x\n",
    "    return drugi"
   ]
  },
  {
   "cell_type": "code",
   "execution_count": null,
   "metadata": {},
   "outputs": [],
   "source": [
    "druginajmniejszy([2,1,3,4,5])"
   ]
  },
  {
   "cell_type": "code",
   "execution_count": null,
   "metadata": {},
   "outputs": [],
   "source": [
    "druginajmniejszy([1,2,2,1,3,4,5])"
   ]
  },
  {
   "cell_type": "markdown",
   "metadata": {},
   "source": [
    "# Zadanie 2"
   ]
  },
  {
   "cell_type": "markdown",
   "metadata": {},
   "source": [
    "Stworz funkcję która usunie z listy najmniejszy element listy\n",
    "\n",
    "l = [4, 1, 2, 3]\n",
    "\n",
    "usun_min(l)\n",
    "\n",
    "l\n",
    "\n",
    "[4, 2, 3]"
   ]
  },
  {
   "cell_type": "code",
   "execution_count": null,
   "metadata": {},
   "outputs": [],
   "source": [
    "def usun_min(lista):\n",
    "    do_usuniecia = set()\n",
    "    for i in range(len(lista)):\n",
    "        if lista[i]==min(lista):\n",
    "            do_usuniecia.add(i)\n",
    "    for i in range(len(lista)-1,-1,-1):\n",
    "        if i in do_usuniecia:\n",
    "            del lista[i]"
   ]
  },
  {
   "cell_type": "code",
   "execution_count": null,
   "metadata": {},
   "outputs": [],
   "source": [
    "l = [4, 1, 2, 3]\n",
    "usun_min(l)\n",
    "l"
   ]
  },
  {
   "cell_type": "code",
   "execution_count": null,
   "metadata": {},
   "outputs": [],
   "source": [
    "l = [4, 1, 1, 3]\n",
    "usun_min(l)\n",
    "l"
   ]
  },
  {
   "cell_type": "code",
   "execution_count": 4,
   "metadata": {},
   "outputs": [],
   "source": [
    "# Frozenset i niezmienność"
   ]
  },
  {
   "cell_type": "code",
   "execution_count": 5,
   "metadata": {},
   "outputs": [],
   "source": [
    "zbior = set()"
   ]
  },
  {
   "cell_type": "code",
   "execution_count": 6,
   "metadata": {},
   "outputs": [
    {
     "data": {
      "text/plain": [
       "set()"
      ]
     },
     "execution_count": 6,
     "metadata": {},
     "output_type": "execute_result"
    }
   ],
   "source": [
    "zbior"
   ]
  },
  {
   "cell_type": "code",
   "execution_count": 7,
   "metadata": {},
   "outputs": [],
   "source": [
    "zbior.add(\"ala\")"
   ]
  },
  {
   "cell_type": "code",
   "execution_count": 8,
   "metadata": {},
   "outputs": [
    {
     "data": {
      "text/plain": [
       "{'ala'}"
      ]
     },
     "execution_count": 8,
     "metadata": {},
     "output_type": "execute_result"
    }
   ],
   "source": [
    "zbior"
   ]
  },
  {
   "cell_type": "code",
   "execution_count": 9,
   "metadata": {},
   "outputs": [],
   "source": [
    "zbior.add(\"ma\")"
   ]
  },
  {
   "cell_type": "code",
   "execution_count": 10,
   "metadata": {},
   "outputs": [],
   "source": [
    "zbior.add(\"kota\")"
   ]
  },
  {
   "cell_type": "code",
   "execution_count": 11,
   "metadata": {},
   "outputs": [],
   "source": [
    "zbior.add(\"ala\")"
   ]
  },
  {
   "cell_type": "code",
   "execution_count": 12,
   "metadata": {},
   "outputs": [
    {
     "data": {
      "text/plain": [
       "{'ala', 'kota', 'ma'}"
      ]
     },
     "execution_count": 12,
     "metadata": {},
     "output_type": "execute_result"
    }
   ],
   "source": [
    "zbior"
   ]
  },
  {
   "cell_type": "code",
   "execution_count": 13,
   "metadata": {},
   "outputs": [
    {
     "ename": "TypeError",
     "evalue": "unhashable type: 'list'",
     "output_type": "error",
     "traceback": [
      "\u001b[1;31m---------------------------------------------------------------------------\u001b[0m",
      "\u001b[1;31mTypeError\u001b[0m                                 Traceback (most recent call last)",
      "\u001b[1;32m<ipython-input-13-24a20cbee2a4>\u001b[0m in \u001b[0;36m<module>\u001b[1;34m\u001b[0m\n\u001b[1;32m----> 1\u001b[1;33m \u001b[0mzbior\u001b[0m\u001b[1;33m.\u001b[0m\u001b[0madd\u001b[0m\u001b[1;33m(\u001b[0m\u001b[1;33m[\u001b[0m\u001b[1;36m1\u001b[0m\u001b[1;33m,\u001b[0m\u001b[1;36m2\u001b[0m\u001b[1;33m]\u001b[0m\u001b[1;33m)\u001b[0m\u001b[1;33m\u001b[0m\u001b[1;33m\u001b[0m\u001b[0m\n\u001b[0m",
      "\u001b[1;31mTypeError\u001b[0m: unhashable type: 'list'"
     ]
    }
   ],
   "source": [
    "zbior.add([1,2])"
   ]
  },
  {
   "cell_type": "code",
   "execution_count": 14,
   "metadata": {},
   "outputs": [],
   "source": [
    "zbior.add((1,2))"
   ]
  },
  {
   "cell_type": "code",
   "execution_count": 15,
   "metadata": {},
   "outputs": [
    {
     "data": {
      "text/plain": [
       "{(1, 2), 'ala', 'kota', 'ma'}"
      ]
     },
     "execution_count": 15,
     "metadata": {},
     "output_type": "execute_result"
    }
   ],
   "source": [
    "zbior"
   ]
  },
  {
   "cell_type": "code",
   "execution_count": 16,
   "metadata": {},
   "outputs": [
    {
     "ename": "TypeError",
     "evalue": "unhashable type: 'set'",
     "output_type": "error",
     "traceback": [
      "\u001b[1;31m---------------------------------------------------------------------------\u001b[0m",
      "\u001b[1;31mTypeError\u001b[0m                                 Traceback (most recent call last)",
      "\u001b[1;32m<ipython-input-16-3b9668a5f451>\u001b[0m in \u001b[0;36m<module>\u001b[1;34m\u001b[0m\n\u001b[1;32m----> 1\u001b[1;33m \u001b[0mzbior\u001b[0m\u001b[1;33m.\u001b[0m\u001b[0madd\u001b[0m\u001b[1;33m(\u001b[0m\u001b[0mzbior\u001b[0m\u001b[1;33m)\u001b[0m\u001b[1;33m\u001b[0m\u001b[1;33m\u001b[0m\u001b[0m\n\u001b[0m",
      "\u001b[1;31mTypeError\u001b[0m: unhashable type: 'set'"
     ]
    }
   ],
   "source": [
    "zbior.add(zbior)"
   ]
  },
  {
   "cell_type": "code",
   "execution_count": 17,
   "metadata": {},
   "outputs": [],
   "source": [
    "zbior.add(frozenset(zbior))"
   ]
  },
  {
   "cell_type": "code",
   "execution_count": 18,
   "metadata": {},
   "outputs": [
    {
     "data": {
      "text/plain": [
       "{(1, 2), 'ala', frozenset({(1, 2), 'ala', 'kota', 'ma'}), 'kota', 'ma'}"
      ]
     },
     "execution_count": 18,
     "metadata": {},
     "output_type": "execute_result"
    }
   ],
   "source": [
    "zbior"
   ]
  },
  {
   "cell_type": "code",
   "execution_count": 19,
   "metadata": {},
   "outputs": [],
   "source": [
    "m = {}"
   ]
  },
  {
   "cell_type": "code",
   "execution_count": 20,
   "metadata": {},
   "outputs": [
    {
     "ename": "TypeError",
     "evalue": "unhashable type: 'list'",
     "output_type": "error",
     "traceback": [
      "\u001b[1;31m---------------------------------------------------------------------------\u001b[0m",
      "\u001b[1;31mTypeError\u001b[0m                                 Traceback (most recent call last)",
      "\u001b[1;32m<ipython-input-20-24ec6911df5a>\u001b[0m in \u001b[0;36m<module>\u001b[1;34m\u001b[0m\n\u001b[1;32m----> 1\u001b[1;33m \u001b[0mm\u001b[0m\u001b[1;33m[\u001b[0m \u001b[1;33m[\u001b[0m\u001b[1;36m1\u001b[0m\u001b[1;33m,\u001b[0m\u001b[1;36m2\u001b[0m\u001b[1;33m]\u001b[0m \u001b[1;33m]\u001b[0m \u001b[1;33m=\u001b[0m \u001b[1;36m1\u001b[0m\u001b[1;33m\u001b[0m\u001b[1;33m\u001b[0m\u001b[0m\n\u001b[0m",
      "\u001b[1;31mTypeError\u001b[0m: unhashable type: 'list'"
     ]
    }
   ],
   "source": [
    "m[ [1,2] ] = 1"
   ]
  },
  {
   "cell_type": "code",
   "execution_count": 21,
   "metadata": {},
   "outputs": [],
   "source": [
    "m[ (1,2) ] = 1"
   ]
  },
  {
   "cell_type": "code",
   "execution_count": 22,
   "metadata": {},
   "outputs": [
    {
     "name": "stdout",
     "output_type": "stream",
     "text": [
      "frozenset size = 5\n",
      "fs contains 5 = True\n",
      "fs not contains 6 = True\n",
      "False\n",
      "True\n",
      "False\n",
      "True\n",
      "True\n",
      "False\n",
      "frozenset({1, 2, 3, 4, 5, 98, 99, 10})\n",
      "frozenset({1, 2})\n",
      "frozenset({4, 5})\n",
      "frozenset({3, 20, 4, 5, 10})\n",
      "frozenset({1, 2, 3, 4, 5})\n"
     ]
    }
   ],
   "source": [
    "fs = frozenset([1, 2, 3, 4, 5])\n",
    "\n",
    "size = len(fs)\n",
    "print('frozenset size =', size)\n",
    "\n",
    "contains_item = 5 in fs\n",
    "print('fs contains 5 =', contains_item)\n",
    "\n",
    "not_contains_item = 6 not in fs\n",
    "print('fs not contains 6 =', not_contains_item)\n",
    "\n",
    "is_disjoint = fs.isdisjoint(frozenset([1, 2]))\n",
    "print(is_disjoint)\n",
    "\n",
    "is_disjoint = fs.isdisjoint(frozenset([10, 20]))\n",
    "print(is_disjoint)\n",
    "\n",
    "is_subset = fs.issubset(set([1, 2]))\n",
    "print(is_subset)\n",
    "\n",
    "is_subset = fs.issubset(set([1, 2, 3, 4, 5, 6, 7]))\n",
    "print(is_subset)\n",
    "\n",
    "is_superset = fs.issuperset(frozenset([1, 2]))\n",
    "print(is_superset)\n",
    "\n",
    "is_superset = fs.issuperset(frozenset([1, 2, 10]))\n",
    "print(is_superset)\n",
    "\n",
    "fs1 = fs.union(frozenset([1, 2, 10]), set([99, 98]))\n",
    "print(fs1)\n",
    "\n",
    "fs1 = fs.intersection(set((1, 2, 10, 20)))\n",
    "print(fs1)\n",
    "\n",
    "fs1 = fs.difference(frozenset([1, 2, 3]))\n",
    "print(fs1)\n",
    "\n",
    "fs1 = fs.symmetric_difference(frozenset([1, 2, 10, 20]))\n",
    "print(fs1)\n",
    "\n",
    "fs1 = fs.copy()\n",
    "print(fs1)"
   ]
  },
  {
   "cell_type": "markdown",
   "metadata": {},
   "source": [
    "# Zadanie na dziś 1"
   ]
  },
  {
   "cell_type": "markdown",
   "metadata": {},
   "source": [
    "Napisać `skrypt` który zliczy ilość wystąpień parametrów z linii komend"
   ]
  },
  {
   "cell_type": "raw",
   "metadata": {},
   "source": [
    "PS C:\\work\\conda\\WarsztatPythonDataScience> python .\\simple_script.py asdf asdf as as as\n",
    "{'asdf': 2, 'as': 3}"
   ]
  },
  {
   "cell_type": "markdown",
   "metadata": {},
   "source": [
    "# Zadanie na dziś 2"
   ]
  },
  {
   "cell_type": "markdown",
   "metadata": {},
   "source": [
    "Napisać `skrypt` który zliczy ilość wystąpień znaków w parametrach z linii komend"
   ]
  },
  {
   "cell_type": "raw",
   "metadata": {},
   "source": [
    "PS C:\\work\\conda\\WarsztatPythonDataScience> python .\\simple_script.py asdf asdf as as as\n",
    "{'a': 5, 's': 5, 'd': 2, 'f': 2, ' ': 4}"
   ]
  },
  {
   "cell_type": "markdown",
   "metadata": {},
   "source": [
    "# Zadanie na dziś 3"
   ]
  },
  {
   "cell_type": "markdown",
   "metadata": {},
   "source": [
    "Wypisać wszystkie permutacje danej listy\n",
    "1. z wykorzystaniem itertools\n",
    "2. bez wykorzystania itertools"
   ]
  },
  {
   "cell_type": "raw",
   "metadata": {},
   "source": [
    "permutations([1,2,3])\n",
    "[(1, 2, 3), (1, 3, 2), (2, 1, 3), (2, 3, 1), (3, 1, 2), (3, 2, 1)] "
   ]
  },
  {
   "cell_type": "code",
   "execution_count": null,
   "metadata": {},
   "outputs": [],
   "source": [
    "def permutations(l):\n",
    "    "
   ]
  },
  {
   "cell_type": "markdown",
   "metadata": {},
   "source": [
    "# Zadanie na dziś 4"
   ]
  },
  {
   "cell_type": "markdown",
   "metadata": {},
   "source": [
    "Stworzyć funkcję `generuj(lista,n)` która zwielokrotni listę `lista` podaną jako pierwszy argument `n` razy dokładając licznik do elementów. Przykład:"
   ]
  },
  {
   "cell_type": "raw",
   "metadata": {},
   "source": [
    "generuj(['p', 'q'],5)\n",
    "\n",
    "['p1', 'q1', 'p2', 'q2', 'p3', 'q3', 'p4', 'q4', 'p5', 'q5']"
   ]
  },
  {
   "cell_type": "code",
   "execution_count": 29,
   "metadata": {},
   "outputs": [
    {
     "data": {
      "text/plain": [
       "[['p1', 'q1'], ['p2', 'q2'], ['p3', 'q3'], ['p4', 'q4'], ['p5', 'q5']]"
      ]
     },
     "execution_count": 29,
     "metadata": {},
     "output_type": "execute_result"
    }
   ],
   "source": [
    "def generuj(list, n):\n",
    "    res = []\n",
    "    for i in range(n):\n",
    "        res.append([x + str(i+1) for x in list])\n",
    "    return res\n",
    "\n",
    "generuj(['p', 'q'],5)"
   ]
  },
  {
   "cell_type": "markdown",
   "metadata": {},
   "source": [
    "# Zadanie na dziś 5"
   ]
  },
  {
   "cell_type": "markdown",
   "metadata": {},
   "source": [
    "Stworzyć funkcję `f(n)` która zbuduje `DataFrame` zawierającą tabliczkę mnożenia do `n` "
   ]
  },
  {
   "cell_type": "code",
   "execution_count": 12,
   "metadata": {},
   "outputs": [
    {
     "data": {
      "text/html": [
       "<div>\n",
       "<style scoped>\n",
       "    .dataframe tbody tr th:only-of-type {\n",
       "        vertical-align: middle;\n",
       "    }\n",
       "\n",
       "    .dataframe tbody tr th {\n",
       "        vertical-align: top;\n",
       "    }\n",
       "\n",
       "    .dataframe thead th {\n",
       "        text-align: right;\n",
       "    }\n",
       "</style>\n",
       "<table border=\"1\" class=\"dataframe\">\n",
       "  <thead>\n",
       "    <tr style=\"text-align: right;\">\n",
       "      <th></th>\n",
       "      <th>1</th>\n",
       "      <th>2</th>\n",
       "      <th>3</th>\n",
       "      <th>4</th>\n",
       "      <th>5</th>\n",
       "      <th>6</th>\n",
       "      <th>7</th>\n",
       "      <th>8</th>\n",
       "      <th>9</th>\n",
       "      <th>10</th>\n",
       "      <th>11</th>\n",
       "      <th>12</th>\n",
       "      <th>13</th>\n",
       "      <th>14</th>\n",
       "      <th>15</th>\n",
       "    </tr>\n",
       "  </thead>\n",
       "  <tbody>\n",
       "    <tr>\n",
       "      <td>1</td>\n",
       "      <td>1</td>\n",
       "      <td>2</td>\n",
       "      <td>3</td>\n",
       "      <td>4</td>\n",
       "      <td>5</td>\n",
       "      <td>6</td>\n",
       "      <td>7</td>\n",
       "      <td>8</td>\n",
       "      <td>9</td>\n",
       "      <td>10</td>\n",
       "      <td>11</td>\n",
       "      <td>12</td>\n",
       "      <td>13</td>\n",
       "      <td>14</td>\n",
       "      <td>15</td>\n",
       "    </tr>\n",
       "    <tr>\n",
       "      <td>2</td>\n",
       "      <td>2</td>\n",
       "      <td>4</td>\n",
       "      <td>6</td>\n",
       "      <td>8</td>\n",
       "      <td>10</td>\n",
       "      <td>12</td>\n",
       "      <td>14</td>\n",
       "      <td>16</td>\n",
       "      <td>18</td>\n",
       "      <td>20</td>\n",
       "      <td>22</td>\n",
       "      <td>24</td>\n",
       "      <td>26</td>\n",
       "      <td>28</td>\n",
       "      <td>30</td>\n",
       "    </tr>\n",
       "    <tr>\n",
       "      <td>3</td>\n",
       "      <td>3</td>\n",
       "      <td>6</td>\n",
       "      <td>9</td>\n",
       "      <td>12</td>\n",
       "      <td>15</td>\n",
       "      <td>18</td>\n",
       "      <td>21</td>\n",
       "      <td>24</td>\n",
       "      <td>27</td>\n",
       "      <td>30</td>\n",
       "      <td>33</td>\n",
       "      <td>36</td>\n",
       "      <td>39</td>\n",
       "      <td>42</td>\n",
       "      <td>45</td>\n",
       "    </tr>\n",
       "    <tr>\n",
       "      <td>4</td>\n",
       "      <td>4</td>\n",
       "      <td>8</td>\n",
       "      <td>12</td>\n",
       "      <td>16</td>\n",
       "      <td>20</td>\n",
       "      <td>24</td>\n",
       "      <td>28</td>\n",
       "      <td>32</td>\n",
       "      <td>36</td>\n",
       "      <td>40</td>\n",
       "      <td>44</td>\n",
       "      <td>48</td>\n",
       "      <td>52</td>\n",
       "      <td>56</td>\n",
       "      <td>60</td>\n",
       "    </tr>\n",
       "    <tr>\n",
       "      <td>5</td>\n",
       "      <td>5</td>\n",
       "      <td>10</td>\n",
       "      <td>15</td>\n",
       "      <td>20</td>\n",
       "      <td>25</td>\n",
       "      <td>30</td>\n",
       "      <td>35</td>\n",
       "      <td>40</td>\n",
       "      <td>45</td>\n",
       "      <td>50</td>\n",
       "      <td>55</td>\n",
       "      <td>60</td>\n",
       "      <td>65</td>\n",
       "      <td>70</td>\n",
       "      <td>75</td>\n",
       "    </tr>\n",
       "    <tr>\n",
       "      <td>6</td>\n",
       "      <td>6</td>\n",
       "      <td>12</td>\n",
       "      <td>18</td>\n",
       "      <td>24</td>\n",
       "      <td>30</td>\n",
       "      <td>36</td>\n",
       "      <td>42</td>\n",
       "      <td>48</td>\n",
       "      <td>54</td>\n",
       "      <td>60</td>\n",
       "      <td>66</td>\n",
       "      <td>72</td>\n",
       "      <td>78</td>\n",
       "      <td>84</td>\n",
       "      <td>90</td>\n",
       "    </tr>\n",
       "    <tr>\n",
       "      <td>7</td>\n",
       "      <td>7</td>\n",
       "      <td>14</td>\n",
       "      <td>21</td>\n",
       "      <td>28</td>\n",
       "      <td>35</td>\n",
       "      <td>42</td>\n",
       "      <td>49</td>\n",
       "      <td>56</td>\n",
       "      <td>63</td>\n",
       "      <td>70</td>\n",
       "      <td>77</td>\n",
       "      <td>84</td>\n",
       "      <td>91</td>\n",
       "      <td>98</td>\n",
       "      <td>105</td>\n",
       "    </tr>\n",
       "    <tr>\n",
       "      <td>8</td>\n",
       "      <td>8</td>\n",
       "      <td>16</td>\n",
       "      <td>24</td>\n",
       "      <td>32</td>\n",
       "      <td>40</td>\n",
       "      <td>48</td>\n",
       "      <td>56</td>\n",
       "      <td>64</td>\n",
       "      <td>72</td>\n",
       "      <td>80</td>\n",
       "      <td>88</td>\n",
       "      <td>96</td>\n",
       "      <td>104</td>\n",
       "      <td>112</td>\n",
       "      <td>120</td>\n",
       "    </tr>\n",
       "    <tr>\n",
       "      <td>9</td>\n",
       "      <td>9</td>\n",
       "      <td>18</td>\n",
       "      <td>27</td>\n",
       "      <td>36</td>\n",
       "      <td>45</td>\n",
       "      <td>54</td>\n",
       "      <td>63</td>\n",
       "      <td>72</td>\n",
       "      <td>81</td>\n",
       "      <td>90</td>\n",
       "      <td>99</td>\n",
       "      <td>108</td>\n",
       "      <td>117</td>\n",
       "      <td>126</td>\n",
       "      <td>135</td>\n",
       "    </tr>\n",
       "    <tr>\n",
       "      <td>10</td>\n",
       "      <td>10</td>\n",
       "      <td>20</td>\n",
       "      <td>30</td>\n",
       "      <td>40</td>\n",
       "      <td>50</td>\n",
       "      <td>60</td>\n",
       "      <td>70</td>\n",
       "      <td>80</td>\n",
       "      <td>90</td>\n",
       "      <td>100</td>\n",
       "      <td>110</td>\n",
       "      <td>120</td>\n",
       "      <td>130</td>\n",
       "      <td>140</td>\n",
       "      <td>150</td>\n",
       "    </tr>\n",
       "    <tr>\n",
       "      <td>11</td>\n",
       "      <td>11</td>\n",
       "      <td>22</td>\n",
       "      <td>33</td>\n",
       "      <td>44</td>\n",
       "      <td>55</td>\n",
       "      <td>66</td>\n",
       "      <td>77</td>\n",
       "      <td>88</td>\n",
       "      <td>99</td>\n",
       "      <td>110</td>\n",
       "      <td>121</td>\n",
       "      <td>132</td>\n",
       "      <td>143</td>\n",
       "      <td>154</td>\n",
       "      <td>165</td>\n",
       "    </tr>\n",
       "    <tr>\n",
       "      <td>12</td>\n",
       "      <td>12</td>\n",
       "      <td>24</td>\n",
       "      <td>36</td>\n",
       "      <td>48</td>\n",
       "      <td>60</td>\n",
       "      <td>72</td>\n",
       "      <td>84</td>\n",
       "      <td>96</td>\n",
       "      <td>108</td>\n",
       "      <td>120</td>\n",
       "      <td>132</td>\n",
       "      <td>144</td>\n",
       "      <td>156</td>\n",
       "      <td>168</td>\n",
       "      <td>180</td>\n",
       "    </tr>\n",
       "    <tr>\n",
       "      <td>13</td>\n",
       "      <td>13</td>\n",
       "      <td>26</td>\n",
       "      <td>39</td>\n",
       "      <td>52</td>\n",
       "      <td>65</td>\n",
       "      <td>78</td>\n",
       "      <td>91</td>\n",
       "      <td>104</td>\n",
       "      <td>117</td>\n",
       "      <td>130</td>\n",
       "      <td>143</td>\n",
       "      <td>156</td>\n",
       "      <td>169</td>\n",
       "      <td>182</td>\n",
       "      <td>195</td>\n",
       "    </tr>\n",
       "    <tr>\n",
       "      <td>14</td>\n",
       "      <td>14</td>\n",
       "      <td>28</td>\n",
       "      <td>42</td>\n",
       "      <td>56</td>\n",
       "      <td>70</td>\n",
       "      <td>84</td>\n",
       "      <td>98</td>\n",
       "      <td>112</td>\n",
       "      <td>126</td>\n",
       "      <td>140</td>\n",
       "      <td>154</td>\n",
       "      <td>168</td>\n",
       "      <td>182</td>\n",
       "      <td>196</td>\n",
       "      <td>210</td>\n",
       "    </tr>\n",
       "    <tr>\n",
       "      <td>15</td>\n",
       "      <td>15</td>\n",
       "      <td>30</td>\n",
       "      <td>45</td>\n",
       "      <td>60</td>\n",
       "      <td>75</td>\n",
       "      <td>90</td>\n",
       "      <td>105</td>\n",
       "      <td>120</td>\n",
       "      <td>135</td>\n",
       "      <td>150</td>\n",
       "      <td>165</td>\n",
       "      <td>180</td>\n",
       "      <td>195</td>\n",
       "      <td>210</td>\n",
       "      <td>225</td>\n",
       "    </tr>\n",
       "  </tbody>\n",
       "</table>\n",
       "</div>"
      ],
      "text/plain": [
       "    1   2   3   4   5   6    7    8    9    10   11   12   13   14   15\n",
       "1    1   2   3   4   5   6    7    8    9   10   11   12   13   14   15\n",
       "2    2   4   6   8  10  12   14   16   18   20   22   24   26   28   30\n",
       "3    3   6   9  12  15  18   21   24   27   30   33   36   39   42   45\n",
       "4    4   8  12  16  20  24   28   32   36   40   44   48   52   56   60\n",
       "5    5  10  15  20  25  30   35   40   45   50   55   60   65   70   75\n",
       "6    6  12  18  24  30  36   42   48   54   60   66   72   78   84   90\n",
       "7    7  14  21  28  35  42   49   56   63   70   77   84   91   98  105\n",
       "8    8  16  24  32  40  48   56   64   72   80   88   96  104  112  120\n",
       "9    9  18  27  36  45  54   63   72   81   90   99  108  117  126  135\n",
       "10  10  20  30  40  50  60   70   80   90  100  110  120  130  140  150\n",
       "11  11  22  33  44  55  66   77   88   99  110  121  132  143  154  165\n",
       "12  12  24  36  48  60  72   84   96  108  120  132  144  156  168  180\n",
       "13  13  26  39  52  65  78   91  104  117  130  143  156  169  182  195\n",
       "14  14  28  42  56  70  84   98  112  126  140  154  168  182  196  210\n",
       "15  15  30  45  60  75  90  105  120  135  150  165  180  195  210  225"
      ]
     },
     "execution_count": 12,
     "metadata": {},
     "output_type": "execute_result"
    }
   ],
   "source": [
    "import pandas as pd\n",
    "\n",
    "def f(n):\n",
    "    data = {m:[x*m for x in range(1,n+1)] for m in range(1,n+1)}\n",
    "    res = pd.DataFrame(data)\n",
    "    res.index += 1\n",
    "    return res\n",
    "\n",
    "f(15)"
   ]
  },
  {
   "cell_type": "markdown",
   "metadata": {},
   "source": [
    "# Zadanie na dziś 6"
   ]
  },
  {
   "cell_type": "markdown",
   "metadata": {},
   "source": [
    "Sprawdzić jakie operatory działają na `frozenset`. Wypisać nietrywialne przykłady ich działania"
   ]
  },
  {
   "cell_type": "code",
   "execution_count": null,
   "metadata": {},
   "outputs": [],
   "source": [
    "a = frozenset([1])\n",
    "b = frozenset([2])\n",
    "a+b"
   ]
  },
  {
   "cell_type": "code",
   "execution_count": null,
   "metadata": {},
   "outputs": [],
   "source": [
    "+\n",
    "-\n",
    "*\n",
    "/\n",
    "%\n",
    "**\n",
    "//\n",
    "\n",
    "=\n",
    "+=\n",
    "-=\n",
    "*=\n",
    "/=\n",
    "%=\n",
    "//=\n",
    "**=\n",
    "&=\n",
    "|=\n",
    "^=\n",
    ">>=\n",
    "<<=\n",
    "\n",
    "==\n",
    "!=\n",
    ">\n",
    "<\n",
    ">=\n",
    "<=\n",
    "\n",
    "and\n",
    "or\n",
    "not\n",
    "\n",
    "is\n",
    "is not\n",
    "\n",
    "in\n",
    "not in\n",
    "\n",
    "&\n",
    "|\n",
    "^\n",
    "~\n",
    "<<\n",
    ">>"
   ]
  }
 ],
 "metadata": {
  "kernelspec": {
   "display_name": "Python 3",
   "language": "python",
   "name": "python3"
  },
  "language_info": {
   "codemirror_mode": {
    "name": "ipython",
    "version": 3
   },
   "file_extension": ".py",
   "mimetype": "text/x-python",
   "name": "python",
   "nbconvert_exporter": "python",
   "pygments_lexer": "ipython3",
   "version": "3.7.4"
  }
 },
 "nbformat": 4,
 "nbformat_minor": 4
}
