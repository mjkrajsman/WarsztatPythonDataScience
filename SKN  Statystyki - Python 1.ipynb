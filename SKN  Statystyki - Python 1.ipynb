{
 "cells": [
  {
   "cell_type": "markdown",
   "metadata": {},
   "source": [
    "# Warsztaty Python w Data Science"
   ]
  },
  {
   "cell_type": "markdown",
   "metadata": {},
   "source": [
    "***"
   ]
  },
  {
   "cell_type": "markdown",
   "metadata": {},
   "source": [
    "# Python 1"
   ]
  },
  {
   "cell_type": "markdown",
   "metadata": {},
   "source": [
    "***"
   ]
  },
  {
   "cell_type": "markdown",
   "metadata": {},
   "source": [
    "# https://github.com/MichalKorzycki/WarsztatPythonDataScience"
   ]
  },
  {
   "cell_type": "markdown",
   "metadata": {},
   "source": [
    "***"
   ]
  },
  {
   "cell_type": "markdown",
   "metadata": {},
   "source": [
    "# Python"
   ]
  },
  {
   "cell_type": "markdown",
   "metadata": {},
   "source": [
    "Język Python jest:\n",
    "- dynamicznym, silnie typowanym językiem skryptowym\n",
    "- napędza takie sajty jak Youtube czy Instagram\n",
    "- są dwie \"konkurencyjne\" wersje języka - 2.7 i tzw. py3k  (3.6, 3.7, 3.8)\n",
    "- na razie korzystamy z 3.7\n",
    "- może pracować jako skrypty (samodzielny program)\n",
    "- albo notebook (to co widzimy)\n",
    "- poważnym językiem programowania"
   ]
  },
  {
   "cell_type": "markdown",
   "metadata": {},
   "source": [
    "![title](img/rossum.jpg)"
   ]
  },
  {
   "cell_type": "code",
   "execution_count": null,
   "metadata": {},
   "outputs": [],
   "source": [
    "print (\"Hello World\")"
   ]
  },
  {
   "cell_type": "code",
   "execution_count": null,
   "metadata": {},
   "outputs": [],
   "source": [
    "import sys\n",
    "print (sys.version)"
   ]
  },
  {
   "cell_type": "markdown",
   "metadata": {},
   "source": [
    "![title](img/growth.png)"
   ]
  },
  {
   "cell_type": "markdown",
   "metadata": {},
   "source": [
    "![title](img/projection.png)"
   ]
  },
  {
   "cell_type": "markdown",
   "metadata": {},
   "source": [
    "![title](img/tags.png)"
   ]
  },
  {
   "cell_type": "markdown",
   "metadata": {},
   "source": [
    "***"
   ]
  },
  {
   "cell_type": "markdown",
   "metadata": {},
   "source": [
    "# Cel Zajęc\n",
    "- ## Celem wykładu jest przekazanie wiedzy z podstaw przetwarzania danych w języku Python\n",
    "- ## Celem ćwiczeń jest zbudować system co automatycznie cenę mieszkania na podstawie automatycznie zebranych danych"
   ]
  },
  {
   "cell_type": "markdown",
   "metadata": {},
   "source": [
    "***"
   ]
  },
  {
   "cell_type": "markdown",
   "metadata": {},
   "source": [
    "# Program Wykładu\n",
    "## 1. Język Python 1\n",
    "- ### podstawowe elementy składni\n",
    "- ### struktury danych\n",
    "- ### Środowisko pracy do pracy z danymi – anakonda, jupyter\n",
    "\n",
    "## 2. Język Python 2 \n",
    "- ### Instrukcje sterujące\n",
    "- ### Obsługa błędów\n",
    "- ### Biblioteki i moduły\n",
    "- ### Korzystanie z pythona – notebooks, skrypty\n",
    "\n",
    "## 3. Data Wrangling 1 \n",
    "- ### Tidy Data – co to jest\n",
    "- ### Data wrangling, munging, tidying\n",
    "- ### Biblioteka Pandas – wprowadzenie. Czytanie danych\n",
    "\n",
    "## 4. Data Wrangling 2 \n",
    "- ### Data Wrangling w praktyce – podstawowe operacje\n",
    "- ### Biblioteka Pandas – wybieranie kolumn i „krojenie danych”\n",
    "\n",
    "## 5. Data Wrangling 3 \n",
    "- ### Czyszczenie danych\n",
    "- ### Pandas – agregacja, grupowanie\n",
    "\n",
    "## 6. Wizualizacja danych 1 \n",
    "- ### Matplotlib – wprowadzenie\n",
    "- ### Proste wykresy\n",
    "- ### Konfiguracja wykresu, sztuczki i kruczki\n",
    " \n",
    "## 7. Wizualizacja danych 2 \n",
    "- ### Seaborn – wprowadzenie\n",
    "- ### Różnice i podobieństwa do Matplotlib\n",
    "- ### Dash by Plotly - interfejsy webowe\n",
    "\n",
    "## 8. Zewnętrzne źródła danych \n",
    "- ### Pojęcie API i korzystanie z nich. JSON\n",
    "- ### Samodzielne pobieranie danych\n",
    "\n",
    "## 9. Scraping \n",
    "- ### Biblioteka Scrapy\n",
    "- ### Biblioteki Beautiful Soup, lxml\n",
    "- ### Ściąganie danych z sieci\n",
    "\n",
    "## 10. Machine Learning 1 \n",
    "- ### Klasyfikacja w ML\n",
    "- ### Biblioteka scikit\n",
    "\n",
    "## 11. Machine Learning 2 \n",
    "- ### Metryki skuteczności optymalizacja modeli\n",
    "- ### Trening klasyfikatorów w scikit\n",
    "\n",
    "## 12. Machine Learning 3 \n",
    "- ### Wybór optymalnego modelu\n",
    "- ### Badanie charakterystyk modeli\n",
    "- ### Grid search w scikit\n",
    "\n",
    "## 13. Machine Learning 4 \n",
    "- ### Regresja w ML\n",
    "- ### Regresja w Scikit\n",
    "\n",
    "## 14. Wprowadzenie do maszynowego przetwarzania tekstu \n",
    "- ### Specyfika danych tekstowych\n",
    "- ### Postawowe metryki dla danych tekstowych\n",
    "- ### Klasyfikacja dokumentów w Scikit."
   ]
  },
  {
   "cell_type": "markdown",
   "metadata": {},
   "source": [
    "***"
   ]
  },
  {
   "cell_type": "markdown",
   "metadata": {},
   "source": [
    "# Narzędzia"
   ]
  },
  {
   "cell_type": "markdown",
   "metadata": {},
   "source": [
    "# https://www.anaconda.com/download/"
   ]
  },
  {
   "cell_type": "markdown",
   "metadata": {},
   "source": [
    "![title](img/ver.png)"
   ]
  },
  {
   "cell_type": "markdown",
   "metadata": {},
   "source": [
    "![title](img/launch.png)"
   ]
  },
  {
   "cell_type": "markdown",
   "metadata": {},
   "source": [
    "# Składnia języka"
   ]
  },
  {
   "cell_type": "markdown",
   "metadata": {},
   "source": [
    "## Zmienne i ich Typy"
   ]
  },
  {
   "cell_type": "code",
   "execution_count": null,
   "metadata": {},
   "outputs": [],
   "source": [
    "s = \"Ala ma kota\"\n",
    "s"
   ]
  },
  {
   "cell_type": "markdown",
   "metadata": {},
   "source": [
    "## Typy zmiennych\n",
    "### Podstawowe\n",
    "- liczby całkowite (int)\n",
    "- liczby zmiennoprzecinkowe (float)\n",
    "- Łańcuchy znaków (str)\n",
    "- Boolowskie (True i False)\n",
    "\n",
    "### Złożone\n",
    "- listy - (list)\n",
    "- krotki - (tuple)\n",
    "- słowniki - (dict)\n"
   ]
  },
  {
   "cell_type": "code",
   "execution_count": null,
   "metadata": {},
   "outputs": [],
   "source": [
    "7+2"
   ]
  },
  {
   "cell_type": "code",
   "execution_count": null,
   "metadata": {},
   "outputs": [],
   "source": [
    "7/2"
   ]
  },
  {
   "cell_type": "code",
   "execution_count": null,
   "metadata": {},
   "outputs": [],
   "source": [
    "7//2"
   ]
  },
  {
   "cell_type": "code",
   "execution_count": null,
   "metadata": {},
   "outputs": [],
   "source": [
    "7%2"
   ]
  },
  {
   "cell_type": "markdown",
   "metadata": {},
   "source": [
    "## Python jest językiem dynamicznym\n"
   ]
  },
  {
   "cell_type": "code",
   "execution_count": null,
   "metadata": {},
   "outputs": [],
   "source": [
    "s = 3\n",
    "s"
   ]
  },
  {
   "cell_type": "code",
   "execution_count": null,
   "metadata": {},
   "outputs": [],
   "source": [
    "s = \"Ala ma \""
   ]
  },
  {
   "cell_type": "code",
   "execution_count": null,
   "metadata": {},
   "outputs": [],
   "source": [
    "s = s + \"kota\"\n",
    "s"
   ]
  },
  {
   "cell_type": "code",
   "execution_count": null,
   "metadata": {},
   "outputs": [],
   "source": [
    "s = \"Ala ma \"\n",
    "n = 3"
   ]
  },
  {
   "cell_type": "code",
   "execution_count": null,
   "metadata": {},
   "outputs": [],
   "source": [
    "s = \"Ala ma \" + n + \"koty\"\n",
    "s"
   ]
  },
  {
   "cell_type": "markdown",
   "metadata": {},
   "source": [
    "## Python jest SILNIE typowany\n",
    "\n",
    "Ale zawsze można skorzystać z konwersji"
   ]
  },
  {
   "cell_type": "code",
   "execution_count": null,
   "metadata": {},
   "outputs": [],
   "source": [
    "s = \"Ala ma \" + str(n) + \" koty \"\n",
    "s"
   ]
  },
  {
   "cell_type": "code",
   "execution_count": null,
   "metadata": {},
   "outputs": [],
   "source": [
    "s * 2"
   ]
  },
  {
   "cell_type": "code",
   "execution_count": null,
   "metadata": {},
   "outputs": [],
   "source": [
    "\"10\""
   ]
  },
  {
   "cell_type": "code",
   "execution_count": null,
   "metadata": {},
   "outputs": [],
   "source": [
    "int(\"10\")"
   ]
  },
  {
   "cell_type": "markdown",
   "metadata": {},
   "source": [
    "## Boolean"
   ]
  },
  {
   "cell_type": "code",
   "execution_count": null,
   "metadata": {},
   "outputs": [],
   "source": [
    "n == 3"
   ]
  },
  {
   "cell_type": "code",
   "execution_count": null,
   "metadata": {},
   "outputs": [],
   "source": [
    "n != 3"
   ]
  },
  {
   "cell_type": "code",
   "execution_count": null,
   "metadata": {},
   "outputs": [],
   "source": [
    "not n == 3"
   ]
  },
  {
   "cell_type": "code",
   "execution_count": null,
   "metadata": {},
   "outputs": [],
   "source": [
    "n == 3 or n != 3"
   ]
  },
  {
   "cell_type": "code",
   "execution_count": null,
   "metadata": {},
   "outputs": [],
   "source": [
    "n == 3 and n != 3"
   ]
  },
  {
   "cell_type": "code",
   "execution_count": null,
   "metadata": {},
   "outputs": [],
   "source": [
    "if n == 3:\n",
    "    print( \"Trzy\" )"
   ]
  },
  {
   "cell_type": "code",
   "execution_count": null,
   "metadata": {},
   "outputs": [],
   "source": [
    "if n == 4:\n",
    "    print (\"Cztery\")\n",
    "else:\n",
    "    print(\"To nie cztery\")"
   ]
  },
  {
   "cell_type": "markdown",
   "metadata": {},
   "source": [
    "## Listy"
   ]
  },
  {
   "cell_type": "code",
   "execution_count": null,
   "metadata": {},
   "outputs": [],
   "source": [
    "a = [4,5,6,7]\n",
    "a"
   ]
  },
  {
   "cell_type": "code",
   "execution_count": null,
   "metadata": {},
   "outputs": [],
   "source": [
    "a[1]"
   ]
  },
  {
   "cell_type": "code",
   "execution_count": null,
   "metadata": {},
   "outputs": [],
   "source": [
    "a[0]"
   ]
  },
  {
   "cell_type": "code",
   "execution_count": null,
   "metadata": {},
   "outputs": [],
   "source": [
    "a[0:2]"
   ]
  },
  {
   "cell_type": "code",
   "execution_count": null,
   "metadata": {},
   "outputs": [],
   "source": [
    "a[-1]"
   ]
  },
  {
   "cell_type": "code",
   "execution_count": null,
   "metadata": {},
   "outputs": [],
   "source": [
    "a[1:-1]"
   ]
  },
  {
   "cell_type": "raw",
   "metadata": {},
   "source": [
    "  0   1   2   3\n",
    "\n",
    "  |   |   |   |\n",
    "\n",
    "[ 4 , 5 , 6 , 7 ]\n",
    " \n",
    "  |   |   |   |\n",
    "\n",
    " -4  -3  -2  -1"
   ]
  },
  {
   "cell_type": "code",
   "execution_count": null,
   "metadata": {},
   "outputs": [],
   "source": [
    "a[-4]"
   ]
  },
  {
   "cell_type": "code",
   "execution_count": null,
   "metadata": {},
   "outputs": [],
   "source": [
    "len(a)"
   ]
  },
  {
   "cell_type": "code",
   "execution_count": null,
   "metadata": {},
   "outputs": [],
   "source": [
    "for i in a:\n",
    "    print (i)"
   ]
  },
  {
   "cell_type": "code",
   "execution_count": null,
   "metadata": {},
   "outputs": [],
   "source": [
    "for i in range(len(a)):\n",
    "    print(i)"
   ]
  },
  {
   "cell_type": "code",
   "execution_count": null,
   "metadata": {},
   "outputs": [],
   "source": [
    "for i in range(len(a)):\n",
    "    print(a[i])"
   ]
  },
  {
   "cell_type": "code",
   "execution_count": null,
   "metadata": {},
   "outputs": [],
   "source": [
    "a.append(8)\n",
    "a"
   ]
  },
  {
   "cell_type": "code",
   "execution_count": null,
   "metadata": {},
   "outputs": [],
   "source": [
    "a + a"
   ]
  },
  {
   "cell_type": "code",
   "execution_count": null,
   "metadata": {},
   "outputs": [],
   "source": [
    "a * 3"
   ]
  },
  {
   "cell_type": "code",
   "execution_count": null,
   "metadata": {},
   "outputs": [],
   "source": [
    "s[0]"
   ]
  },
  {
   "cell_type": "code",
   "execution_count": null,
   "metadata": {},
   "outputs": [],
   "source": [
    "\" \".join( [\"Ala\", \"ma\", \"kota\"] )"
   ]
  },
  {
   "cell_type": "markdown",
   "metadata": {},
   "source": [
    "## Krotki (tuple)"
   ]
  },
  {
   "cell_type": "code",
   "execution_count": null,
   "metadata": {},
   "outputs": [],
   "source": [
    "t = (1, 2, 3, 4)\n",
    "t"
   ]
  },
  {
   "cell_type": "markdown",
   "metadata": {},
   "source": [
    "## Słowniki (dict)"
   ]
  },
  {
   "cell_type": "code",
   "execution_count": null,
   "metadata": {},
   "outputs": [],
   "source": [
    "m = { 'a': 1, 'b': 2 }"
   ]
  },
  {
   "cell_type": "code",
   "execution_count": null,
   "metadata": {},
   "outputs": [],
   "source": [
    "m.keys()"
   ]
  },
  {
   "cell_type": "code",
   "execution_count": null,
   "metadata": {},
   "outputs": [],
   "source": [
    "m.values()"
   ]
  },
  {
   "cell_type": "code",
   "execution_count": null,
   "metadata": {},
   "outputs": [],
   "source": [
    "m['a']"
   ]
  },
  {
   "cell_type": "code",
   "execution_count": null,
   "metadata": {},
   "outputs": [],
   "source": [
    "m['c']"
   ]
  },
  {
   "cell_type": "code",
   "execution_count": null,
   "metadata": {},
   "outputs": [],
   "source": [
    "m.get('c', 0)"
   ]
  },
  {
   "cell_type": "code",
   "execution_count": null,
   "metadata": {},
   "outputs": [],
   "source": [
    "m = dict( [(\"a\", 1), (\"b\", 2)] )"
   ]
  },
  {
   "cell_type": "code",
   "execution_count": null,
   "metadata": {},
   "outputs": [],
   "source": [
    "m"
   ]
  },
  {
   "cell_type": "code",
   "execution_count": null,
   "metadata": {},
   "outputs": [],
   "source": [
    "l = [ \"a\", \"b\", \"c\" ]\n",
    "l"
   ]
  },
  {
   "cell_type": "code",
   "execution_count": null,
   "metadata": {},
   "outputs": [],
   "source": [
    "list(zip( range(len(l)), l))"
   ]
  },
  {
   "cell_type": "code",
   "execution_count": null,
   "metadata": {},
   "outputs": [],
   "source": [
    "m = dict(zip( range(len(l)), l))\n",
    "m"
   ]
  },
  {
   "cell_type": "code",
   "execution_count": null,
   "metadata": {},
   "outputs": [],
   "source": [
    "for k in m.keys():\n",
    "    print (k, m[k])"
   ]
  },
  {
   "cell_type": "code",
   "execution_count": null,
   "metadata": {},
   "outputs": [],
   "source": [
    "for k in m:\n",
    "    print( k, m[k])"
   ]
  },
  {
   "cell_type": "markdown",
   "metadata": {},
   "source": [
    "## Funkcje"
   ]
  },
  {
   "cell_type": "code",
   "execution_count": null,
   "metadata": {},
   "outputs": [],
   "source": [
    "def dodaj_2(x):\n",
    "    wynik = x + 2\n",
    "    return wynik"
   ]
  },
  {
   "cell_type": "code",
   "execution_count": null,
   "metadata": {},
   "outputs": [],
   "source": [
    "dodaj_2(5)"
   ]
  },
  {
   "cell_type": "code",
   "execution_count": null,
   "metadata": {},
   "outputs": [],
   "source": [
    "def is_odd(x):\n",
    "    print (\"*\" * x)\n",
    "    return (x % 2) == 1"
   ]
  },
  {
   "cell_type": "code",
   "execution_count": null,
   "metadata": {},
   "outputs": [],
   "source": [
    "is_odd(5)"
   ]
  },
  {
   "cell_type": "code",
   "execution_count": null,
   "metadata": {},
   "outputs": [],
   "source": [
    "is_odd(8)"
   ]
  },
  {
   "cell_type": "code",
   "execution_count": null,
   "metadata": {},
   "outputs": [],
   "source": [
    "def slownie(n):\n",
    "    jednosci = { 0: \"zero\", 1: \"jeden\", 2: \"dwa\", 3: \"trzy\", 4: \"cztery\", 5: \"pięć\", 6: \"sześć\", 7: \"siedem\", 8: \"osiem\", 9: \"dziewięć\"}\n",
    "    return jednosci[n]\n",
    "\n",
    "slownie(6)"
   ]
  },
  {
   "cell_type": "markdown",
   "metadata": {},
   "source": [
    "## Referencje"
   ]
  },
  {
   "cell_type": "code",
   "execution_count": null,
   "metadata": {},
   "outputs": [],
   "source": [
    "a = [81, 82, 83]\n",
    "b = [81, 82, 83]\n",
    "\n",
    "print ( a is b )\n",
    "\n",
    "print (a == b )"
   ]
  },
  {
   "cell_type": "code",
   "execution_count": null,
   "metadata": {},
   "outputs": [],
   "source": [
    "a = b\n",
    "\n",
    "a is b"
   ]
  },
  {
   "cell_type": "code",
   "execution_count": null,
   "metadata": {},
   "outputs": [],
   "source": [
    "a.append(84)\n",
    "\n",
    "b"
   ]
  },
  {
   "cell_type": "code",
   "execution_count": null,
   "metadata": {},
   "outputs": [],
   "source": [
    "a = [81, 82, 83]\n",
    "b = list(a)\n",
    "\n",
    "a is b"
   ]
  },
  {
   "cell_type": "code",
   "execution_count": null,
   "metadata": {},
   "outputs": [],
   "source": [
    "n1 = 3\n",
    "n2 = 3\n",
    "\n",
    "n1 is n2"
   ]
  },
  {
   "cell_type": "markdown",
   "metadata": {},
   "source": [
    "***"
   ]
  },
  {
   "cell_type": "markdown",
   "metadata": {},
   "source": [
    "## Zadanie 1"
   ]
  },
  {
   "cell_type": "raw",
   "metadata": {},
   "source": [
    "Napisać funkcję co policzy ilość wystąpień na liście\n",
    "\n",
    "Przykład:\n",
    "zlicz( [1, 2, 3, 4, 1, 2, 1] )\n",
    "\n",
    "{ 1: 3, 2: 3, 3: 1, 4: 1 }"
   ]
  },
  {
   "cell_type": "code",
   "execution_count": null,
   "metadata": {},
   "outputs": [],
   "source": [
    "def zlicz(txt):\n",
    "    keys = list(set(txt))\n",
    "    values = [ txt.count(i) for i in keys]\n",
    "    return dict(zip(keys,values))\n",
    "zlicz( [1, 2, 3, 4, 1, 2, 1] )"
   ]
  },
  {
   "cell_type": "markdown",
   "metadata": {},
   "source": [
    "## Zadanie 2"
   ]
  },
  {
   "cell_type": "raw",
   "metadata": {},
   "source": [
    "\n",
    "Napisać funkcję co wypisze choinkę o odpowiedniej wysokości\n",
    "\n",
    "Przykład:\n",
    "choinka(7)\n",
    "\n",
    "       *\n",
    "      ***\n",
    "     *****\n",
    "    *******\n",
    "   *********\n",
    "  ***********\n",
    " *************\n",
    "       *\n",
    "      ***\n",
    "\n",
    "choinka(4)\n",
    "        \n",
    "    *\n",
    "   ***\n",
    "  *****\n",
    " *******\n",
    "    *\n",
    "   ***\n",
    "\n"
   ]
  },
  {
   "cell_type": "code",
   "execution_count": null,
   "metadata": {},
   "outputs": [],
   "source": [
    "def choinka(height):\n",
    "    res = []\n",
    "    for i in range(height):\n",
    "        res.append(\" \"*(height-i) + \"*\" *(2*i+1))\n",
    "    for i in range(2):\n",
    "        res.append(\" \"*(height-i) + \"*\" *(2*i+1))\n",
    "    return print(\"\\n\".join(res))\n",
    "choinka(9)"
   ]
  },
  {
   "cell_type": "markdown",
   "metadata": {},
   "source": [
    "## Zadanie 3"
   ]
  },
  {
   "cell_type": "raw",
   "metadata": {},
   "source": [
    "\n",
    "Napisać funkcję co wypiszę liczbę naturalną słownie dla liczb od 0 do 999999.\n",
    "\n",
    "slownie(1984)\n",
    "'tysiąc dziewięćset osiemdziesiąt cztery'\n"
   ]
  },
  {
   "cell_type": "code",
   "execution_count": null,
   "metadata": {},
   "outputs": [],
   "source": [
    "def slownie_3digits(input):\n",
    "    try:\n",
    "        if not isinstance(input, str):\n",
    "            raise TypeError(\"Type mismatch! Input of slownie_3digits function has to be a string!\")\n",
    "        if len(input)>3:\n",
    "            raise ValueError(\"The number is too big! The slownie_3digits function takes a maximum of 3 digits!\")\n",
    "    except TypeError:\n",
    "        raise\n",
    "    length = len(input)\n",
    "    words = [[\"zero\",\"jeden\", \"dwa\", \"trzy\", \"cztery\", \"pięć\", \"sześć\", \"siedem\", \"osiem\", \"dziewięć\"],\n",
    "             [\"dziesięć\",\"jedenaście\", \"dwanaście\", \"trzynaście\", \"czternaście\", \"piętnaście\", \"szesnaście\", \"siedemnaście\", \"osiemnaście\", \"dziewiętnaście\"],\n",
    "             [\"dwadzieścia\", \"trzydzieści\", \"czterdzieści\", \"pięćdziesiąt\", \"sześćdziesiąt\",\"siedemdziesiąt\",\"osiemdziesiąt\",\"dziewięćdziesiąt\"],\n",
    "             [\"sto\",\"dwieście\",\"trzysta\",\"czterysta\",\"pięćset\",\"sześćset\",\"siedemset\",\"osiemset\",\"dziewięćset\"]]\n",
    "    \n",
    "    # 0-99\n",
    "    if length == 1: # 0-9 (1 digit)\n",
    "        res = words[0][int(str(input)[-1])]\n",
    "    elif str(input)[-2]==\"1\": # 10-19 (>1 digits, one digit before last equals 1)\n",
    "        res = words[1][int(str(input)[-1])]\n",
    "    elif str(input)[-1]==\"0\": # 20,30,40 ... 90 (>1 digits, one digit before last does not equal 1, last digit equals 0)\n",
    "        res = words[2][int(str(input)[-2])-2]\n",
    "    else: # 21-99 w/o 30,40 ... 90 (>1 digits, last two digits don't equal 1 and 0 respectively)\n",
    "        res = \" \".join([words[2][int(str(input)[-2])-2],words[0][int(str(input)[-1])]])\n",
    "        \n",
    "    # 1xx,2xx,3xx ... 9xx\n",
    "    if length >= 3:\n",
    "        res = \" \".join([words[3][int(str(input)[-3])-1],res])\n",
    "    return res\n",
    "\n",
    "def slownie(input):\n",
    "    try:\n",
    "        if not isinstance(input, int):\n",
    "            raise TypeError(\"Type mismatch! Input of slownie function has to be an integer!\")\n",
    "        if len(str(input))>6:\n",
    "            raise ValueError(\"The number is too big! The slownie function takes a maximum of 6 digits!\")\n",
    "    except TypeError:\n",
    "        raise\n",
    "    except ValueError:\n",
    "        raise\n",
    "    \n",
    "    thousands = [\"tysiąc\",\"tysiące\",\"tysięcy\"]\n",
    "    \n",
    "    input = str(input)\n",
    "    if len(input)>3:\n",
    "        last_3digits = slownie_3digits(input[-3:])\n",
    "        if input[-4] in [\"1\"]:\n",
    "            thousand = thousands[0]\n",
    "        elif input[-4] in [\"2\",\"3\",\"4\"]:\n",
    "            thousand = thousands[1]\n",
    "        else:\n",
    "            thousand = thousands[2]\n",
    "            \n",
    "        res = \" \".join([slownie_3digits(input[:-3]),thousand,last_3digits])\n",
    "    else:\n",
    "        res = slownie_3digits(input)\n",
    "        \n",
    "    \n",
    "    return res\n",
    "\n",
    "print(slownie(0))\n",
    "print(slownie(5))\n",
    "print(slownie(10))\n",
    "print(slownie(11))\n",
    "print(slownie(13))\n",
    "print(slownie(20))\n",
    "print(slownie(47))\n",
    "print(slownie(234))\n",
    "print(slownie(780))\n",
    "print(slownie(1992))\n",
    "print(slownie(3530))\n",
    "print(slownie(7210))\n",
    "print(slownie(46668))\n",
    "print(slownie(999999))\n",
    "print(slownie(999))\n",
    "#print(slownie(9999991))\n",
    "#print(slownie(\"lorem ipsum\"))"
   ]
  },
  {
   "cell_type": "markdown",
   "metadata": {},
   "source": [
    "# Literatura"
   ]
  },
  {
   "cell_type": "markdown",
   "metadata": {},
   "source": [
    "### https://docs.python.org/2/"
   ]
  },
  {
   "cell_type": "markdown",
   "metadata": {},
   "source": [
    "### https://pl.wikibooks.org/wiki/Zanurkuj_w_Pythonie"
   ]
  },
  {
   "cell_type": "markdown",
   "metadata": {},
   "source": [
    "### http://diveintopython.org"
   ]
  },
  {
   "cell_type": "markdown",
   "metadata": {},
   "source": [
    "### http://getpython3.com/diveintopython3/"
   ]
  },
  {
   "cell_type": "markdown",
   "metadata": {},
   "source": [
    "### http://www.greenteapress.com/thinkpython/html/index.html"
   ]
  },
  {
   "cell_type": "markdown",
   "metadata": {},
   "source": [
    "### https://jakevdp.github.io/PythonDataScienceHandbook/"
   ]
  }
 ],
 "metadata": {
  "kernelspec": {
   "display_name": "Python 3",
   "language": "python",
   "name": "python3"
  },
  "language_info": {
   "codemirror_mode": {
    "name": "ipython",
    "version": 3
   },
   "file_extension": ".py",
   "mimetype": "text/x-python",
   "name": "python",
   "nbconvert_exporter": "python",
   "pygments_lexer": "ipython3",
   "version": "3.7.4"
  },
  "widgets": {
   "application/vnd.jupyter.widget-state+json": {
    "state": {},
    "version_major": 2,
    "version_minor": 0
   }
  }
 },
 "nbformat": 4,
 "nbformat_minor": 4
}
